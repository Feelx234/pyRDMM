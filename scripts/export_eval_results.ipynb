{
 "cells": [
  {
   "cell_type": "code",
   "execution_count": 1,
   "metadata": {},
   "outputs": [
    {
     "name": "stdout",
     "output_type": "stream",
     "text": [
      "/home/felix/experiments/06_04\n"
     ]
    }
   ],
   "source": [
    "import warnings\n",
    "#warnings.filterwarnings(\"error\")\n",
    "import sys\n",
    "sys.path.append('pysubgroup')\n",
    "from RDMM.evaluation_framework import EvaluationFramework\n",
    "from pathlib import Path\n",
    "import numpy as np\n",
    "import pandas as pd\n",
    "from collections import namedtuple\n",
    "from tqdm import tqdm\n",
    "date_path=Path('06_04')\n",
    "pre_folder = Path.home()/Path('experiments')\n",
    "folder= pre_folder/date_path\n",
    "#folder= \"L:/\"/Path('experiments')/'remote'/date_path\n",
    "print(folder)\n",
    "frame = EvaluationFramework(folder)\n",
    "pd.set_option('display.max_colwidth', 100)"
   ]
  },
  {
   "cell_type": "code",
   "execution_count": 2,
   "metadata": {},
   "outputs": [],
   "source": [
    "from RDMM.utils import *"
   ]
  },
  {
   "cell_type": "code",
   "execution_count": 79,
   "metadata": {},
   "outputs": [],
   "source": [
    "#model_class=Path('regression')\n",
    "#model_class=Path('transition')\n",
    "model_class=Path('cov')\n",
    "#strategy = \"mine_pair\"\n",
    "strategy = \"exhaustive\"\n",
    "if str(model_class)==\"regression\":\n",
    "    num_dataframes = 10\n",
    "    num_parameters = 36\n",
    "    num_quality_pairs = 9\n",
    "    experiment_name = strategy+\"_results\"\n",
    "elif str(model_class)==\"cov\":\n",
    "    num_dataframes = 10\n",
    "    num_parameters = 36\n",
    "    num_quality_pairs = 1\n",
    "    experiment_name = strategy+\"5_results\"\n",
    "\n",
    "#experiment_name=\"mine_pair5_results\"\n",
    "#experiment_name=\"exhaustive_results\"\n",
    "\n"
   ]
  },
  {
   "cell_type": "code",
   "execution_count": 80,
   "metadata": {},
   "outputs": [
    {
     "name": "stderr",
     "output_type": "stream",
     "text": [
      "100%|██████████| 360/360 [00:06<00:00, 58.29it/s]\n"
     ]
    }
   ],
   "source": [
    "total_experiments=num_dataframes * num_parameters * num_quality_pairs\n",
    "result_frames  = frame.evaluate_results(model_class, experiment_name, total_experiments, tqdm, allow_omit=False)"
   ]
  },
  {
   "cell_type": "code",
   "execution_count": 81,
   "metadata": {},
   "outputs": [],
   "source": [
    "abbreviations={'LikelihoodExceptionality_transition':'Like',\n",
    "'LikelihoodSimilarity':'Like',\n",
    "'TotalVariationSimilarity': 'var',\n",
    " 'TotalVariationExceptionality':'var',\n",
    " 'ParameterDiff':'par',\n",
    " 'ParameterDiff_sim':'par',\n",
    " 'Cooks_sim':'Cooks',\n",
    " 'Like_sim':'Like',\n",
    " 'Log_sim':'Log',\n",
    " 'par_sim':'par',\n",
    "  'Norm 1':'Norm1'} "
   ]
  },
  {
   "cell_type": "code",
   "execution_count": 82,
   "metadata": {},
   "outputs": [],
   "source": [
    "def unstack_index(df, fun):\n",
    "    new_df = df.aggregate(fun, axis=1).unstack(['ex','sim'])\n",
    "    new_df = new_df.reorder_levels(['gamma', 'beta','alpha'])\n",
    "    return new_df.rename(columns=abbreviations)"
   ]
  },
  {
   "cell_type": "code",
   "execution_count": 83,
   "metadata": {},
   "outputs": [],
   "source": [
    "evaluation_name='top10'\n",
    "df = unstack_index(result_frames[evaluation_name], np.mean).sort_index()\n",
    "df_std = unstack_index(result_frames[evaluation_name], np.std).sort_index()"
   ]
  },
  {
   "cell_type": "code",
   "execution_count": 84,
   "metadata": {},
   "outputs": [],
   "source": [
    "\n",
    "import seaborn as sns\n",
    "\n",
    "cm = sns.light_palette(\"green\", as_cmap=True)\n",
    "\n",
    "s = (df_std).style.background_gradient(cmap=cm)"
   ]
  },
  {
   "cell_type": "code",
   "execution_count": 85,
   "metadata": {},
   "outputs": [
    {
     "data": {
      "text/html": [
       "<style  type=\"text/css\" >\n",
       "#T_db5d4_row0_col0,#T_db5d4_row1_col0,#T_db5d4_row2_col0,#T_db5d4_row3_col0,#T_db5d4_row6_col0,#T_db5d4_row7_col0,#T_db5d4_row11_col0,#T_db5d4_row12_col0,#T_db5d4_row13_col0,#T_db5d4_row14_col0,#T_db5d4_row15_col0,#T_db5d4_row17_col0,#T_db5d4_row18_col0,#T_db5d4_row19_col0,#T_db5d4_row22_col0,#T_db5d4_row23_col0,#T_db5d4_row24_col0,#T_db5d4_row25_col0,#T_db5d4_row26_col0,#T_db5d4_row27_col0,#T_db5d4_row29_col0,#T_db5d4_row30_col0,#T_db5d4_row31_col0,#T_db5d4_row33_col0,#T_db5d4_row34_col0,#T_db5d4_row35_col0{\n",
       "            background-color:  #ebf3eb;\n",
       "            color:  #000000;\n",
       "        }#T_db5d4_row4_col0{\n",
       "            background-color:  #92c892;\n",
       "            color:  #000000;\n",
       "        }#T_db5d4_row5_col0{\n",
       "            background-color:  #99cb99;\n",
       "            color:  #000000;\n",
       "        }#T_db5d4_row8_col0{\n",
       "            background-color:  #008000;\n",
       "            color:  #f1f1f1;\n",
       "        }#T_db5d4_row9_col0{\n",
       "            background-color:  #71b771;\n",
       "            color:  #000000;\n",
       "        }#T_db5d4_row10_col0{\n",
       "            background-color:  #76ba76;\n",
       "            color:  #000000;\n",
       "        }#T_db5d4_row16_col0,#T_db5d4_row20_col0{\n",
       "            background-color:  #77ba77;\n",
       "            color:  #000000;\n",
       "        }#T_db5d4_row21_col0{\n",
       "            background-color:  #7bbc7b;\n",
       "            color:  #000000;\n",
       "        }#T_db5d4_row28_col0{\n",
       "            background-color:  #53a953;\n",
       "            color:  #000000;\n",
       "        }#T_db5d4_row32_col0{\n",
       "            background-color:  #61af61;\n",
       "            color:  #000000;\n",
       "        }</style><table id=\"T_db5d4_\" ><thead>    <tr>        <th class=\"blank\" ></th>        <th class=\"blank\" ></th>        <th class=\"index_name level0\" >ex</th>        <th class=\"col_heading level0 col0\" >Norm1</th>    </tr>    <tr>        <th class=\"blank\" ></th>        <th class=\"blank\" ></th>        <th class=\"index_name level1\" >sim</th>        <th class=\"col_heading level1 col0\" >Norm1</th>    </tr>    <tr>        <th class=\"index_name level0\" >gamma</th>        <th class=\"index_name level1\" >beta</th>        <th class=\"index_name level2\" >alpha</th>        <th class=\"blank\" ></th>    </tr></thead><tbody>\n",
       "                <tr>\n",
       "                        <th id=\"T_db5d4_level0_row0\" class=\"row_heading level0 row0\" rowspan=\"12\">0.0</th>\n",
       "                        <th id=\"T_db5d4_level1_row0\" class=\"row_heading level1 row0\" rowspan=\"4\">0.0</th>\n",
       "                        <th id=\"T_db5d4_level2_row0\" class=\"row_heading level2 row0\" >-1.0</th>\n",
       "                        <td id=\"T_db5d4_row0_col0\" class=\"data row0 col0\" >0.000000</td>\n",
       "            </tr>\n",
       "            <tr>\n",
       "                                        <th id=\"T_db5d4_level2_row1\" class=\"row_heading level2 row1\" >0.0</th>\n",
       "                        <td id=\"T_db5d4_row1_col0\" class=\"data row1 col0\" >0.000000</td>\n",
       "            </tr>\n",
       "            <tr>\n",
       "                                        <th id=\"T_db5d4_level2_row2\" class=\"row_heading level2 row2\" >0.5</th>\n",
       "                        <td id=\"T_db5d4_row2_col0\" class=\"data row2 col0\" >0.000000</td>\n",
       "            </tr>\n",
       "            <tr>\n",
       "                                        <th id=\"T_db5d4_level2_row3\" class=\"row_heading level2 row3\" >1.0</th>\n",
       "                        <td id=\"T_db5d4_row3_col0\" class=\"data row3 col0\" >0.000000</td>\n",
       "            </tr>\n",
       "            <tr>\n",
       "                                <th id=\"T_db5d4_level1_row4\" class=\"row_heading level1 row4\" rowspan=\"4\">0.5</th>\n",
       "                        <th id=\"T_db5d4_level2_row4\" class=\"row_heading level2 row4\" >-1.0</th>\n",
       "                        <td id=\"T_db5d4_row4_col0\" class=\"data row4 col0\" >0.113529</td>\n",
       "            </tr>\n",
       "            <tr>\n",
       "                                        <th id=\"T_db5d4_level2_row5\" class=\"row_heading level2 row5\" >0.0</th>\n",
       "                        <td id=\"T_db5d4_row5_col0\" class=\"data row5 col0\" >0.105935</td>\n",
       "            </tr>\n",
       "            <tr>\n",
       "                                        <th id=\"T_db5d4_level2_row6\" class=\"row_heading level2 row6\" >0.5</th>\n",
       "                        <td id=\"T_db5d4_row6_col0\" class=\"data row6 col0\" >0.000000</td>\n",
       "            </tr>\n",
       "            <tr>\n",
       "                                        <th id=\"T_db5d4_level2_row7\" class=\"row_heading level2 row7\" >1.0</th>\n",
       "                        <td id=\"T_db5d4_row7_col0\" class=\"data row7 col0\" >0.000000</td>\n",
       "            </tr>\n",
       "            <tr>\n",
       "                                <th id=\"T_db5d4_level1_row8\" class=\"row_heading level1 row8\" rowspan=\"4\">1.0</th>\n",
       "                        <th id=\"T_db5d4_level2_row8\" class=\"row_heading level2 row8\" >-1.0</th>\n",
       "                        <td id=\"T_db5d4_row8_col0\" class=\"data row8 col0\" >0.302030</td>\n",
       "            </tr>\n",
       "            <tr>\n",
       "                                        <th id=\"T_db5d4_level2_row9\" class=\"row_heading level2 row9\" >0.0</th>\n",
       "                        <td id=\"T_db5d4_row9_col0\" class=\"data row9 col0\" >0.156702</td>\n",
       "            </tr>\n",
       "            <tr>\n",
       "                                        <th id=\"T_db5d4_level2_row10\" class=\"row_heading level2 row10\" >0.5</th>\n",
       "                        <td id=\"T_db5d4_row10_col0\" class=\"data row10 col0\" >0.150923</td>\n",
       "            </tr>\n",
       "            <tr>\n",
       "                                        <th id=\"T_db5d4_level2_row11\" class=\"row_heading level2 row11\" >1.0</th>\n",
       "                        <td id=\"T_db5d4_row11_col0\" class=\"data row11 col0\" >0.000000</td>\n",
       "            </tr>\n",
       "            <tr>\n",
       "                        <th id=\"T_db5d4_level0_row12\" class=\"row_heading level0 row12\" rowspan=\"12\">0.5</th>\n",
       "                        <th id=\"T_db5d4_level1_row12\" class=\"row_heading level1 row12\" rowspan=\"4\">0.0</th>\n",
       "                        <th id=\"T_db5d4_level2_row12\" class=\"row_heading level2 row12\" >-1.0</th>\n",
       "                        <td id=\"T_db5d4_row12_col0\" class=\"data row12 col0\" >0.000000</td>\n",
       "            </tr>\n",
       "            <tr>\n",
       "                                        <th id=\"T_db5d4_level2_row13\" class=\"row_heading level2 row13\" >0.0</th>\n",
       "                        <td id=\"T_db5d4_row13_col0\" class=\"data row13 col0\" >0.000000</td>\n",
       "            </tr>\n",
       "            <tr>\n",
       "                                        <th id=\"T_db5d4_level2_row14\" class=\"row_heading level2 row14\" >0.5</th>\n",
       "                        <td id=\"T_db5d4_row14_col0\" class=\"data row14 col0\" >0.000000</td>\n",
       "            </tr>\n",
       "            <tr>\n",
       "                                        <th id=\"T_db5d4_level2_row15\" class=\"row_heading level2 row15\" >1.0</th>\n",
       "                        <td id=\"T_db5d4_row15_col0\" class=\"data row15 col0\" >0.000000</td>\n",
       "            </tr>\n",
       "            <tr>\n",
       "                                <th id=\"T_db5d4_level1_row16\" class=\"row_heading level1 row16\" rowspan=\"4\">0.5</th>\n",
       "                        <th id=\"T_db5d4_level2_row16\" class=\"row_heading level2 row16\" >-1.0</th>\n",
       "                        <td id=\"T_db5d4_row16_col0\" class=\"data row16 col0\" >0.149071</td>\n",
       "            </tr>\n",
       "            <tr>\n",
       "                                        <th id=\"T_db5d4_level2_row17\" class=\"row_heading level2 row17\" >0.0</th>\n",
       "                        <td id=\"T_db5d4_row17_col0\" class=\"data row17 col0\" >0.000000</td>\n",
       "            </tr>\n",
       "            <tr>\n",
       "                                        <th id=\"T_db5d4_level2_row18\" class=\"row_heading level2 row18\" >0.5</th>\n",
       "                        <td id=\"T_db5d4_row18_col0\" class=\"data row18 col0\" >0.000000</td>\n",
       "            </tr>\n",
       "            <tr>\n",
       "                                        <th id=\"T_db5d4_level2_row19\" class=\"row_heading level2 row19\" >1.0</th>\n",
       "                        <td id=\"T_db5d4_row19_col0\" class=\"data row19 col0\" >0.000000</td>\n",
       "            </tr>\n",
       "            <tr>\n",
       "                                <th id=\"T_db5d4_level1_row20\" class=\"row_heading level1 row20\" rowspan=\"4\">1.0</th>\n",
       "                        <th id=\"T_db5d4_level2_row20\" class=\"row_heading level2 row20\" >-1.0</th>\n",
       "                        <td id=\"T_db5d4_row20_col0\" class=\"data row20 col0\" >0.149443</td>\n",
       "            </tr>\n",
       "            <tr>\n",
       "                                        <th id=\"T_db5d4_level2_row21\" class=\"row_heading level2 row21\" >0.0</th>\n",
       "                        <td id=\"T_db5d4_row21_col0\" class=\"data row21 col0\" >0.142984</td>\n",
       "            </tr>\n",
       "            <tr>\n",
       "                                        <th id=\"T_db5d4_level2_row22\" class=\"row_heading level2 row22\" >0.5</th>\n",
       "                        <td id=\"T_db5d4_row22_col0\" class=\"data row22 col0\" >0.000000</td>\n",
       "            </tr>\n",
       "            <tr>\n",
       "                                        <th id=\"T_db5d4_level2_row23\" class=\"row_heading level2 row23\" >1.0</th>\n",
       "                        <td id=\"T_db5d4_row23_col0\" class=\"data row23 col0\" >0.000000</td>\n",
       "            </tr>\n",
       "            <tr>\n",
       "                        <th id=\"T_db5d4_level0_row24\" class=\"row_heading level0 row24\" rowspan=\"12\">1.0</th>\n",
       "                        <th id=\"T_db5d4_level1_row24\" class=\"row_heading level1 row24\" rowspan=\"4\">0.0</th>\n",
       "                        <th id=\"T_db5d4_level2_row24\" class=\"row_heading level2 row24\" >-1.0</th>\n",
       "                        <td id=\"T_db5d4_row24_col0\" class=\"data row24 col0\" >0.000000</td>\n",
       "            </tr>\n",
       "            <tr>\n",
       "                                        <th id=\"T_db5d4_level2_row25\" class=\"row_heading level2 row25\" >0.0</th>\n",
       "                        <td id=\"T_db5d4_row25_col0\" class=\"data row25 col0\" >0.000000</td>\n",
       "            </tr>\n",
       "            <tr>\n",
       "                                        <th id=\"T_db5d4_level2_row26\" class=\"row_heading level2 row26\" >0.5</th>\n",
       "                        <td id=\"T_db5d4_row26_col0\" class=\"data row26 col0\" >0.000000</td>\n",
       "            </tr>\n",
       "            <tr>\n",
       "                                        <th id=\"T_db5d4_level2_row27\" class=\"row_heading level2 row27\" >1.0</th>\n",
       "                        <td id=\"T_db5d4_row27_col0\" class=\"data row27 col0\" >0.000000</td>\n",
       "            </tr>\n",
       "            <tr>\n",
       "                                <th id=\"T_db5d4_level1_row28\" class=\"row_heading level1 row28\" rowspan=\"4\">0.5</th>\n",
       "                        <th id=\"T_db5d4_level2_row28\" class=\"row_heading level2 row28\" >-1.0</th>\n",
       "                        <td id=\"T_db5d4_row28_col0\" class=\"data row28 col0\" >0.195505</td>\n",
       "            </tr>\n",
       "            <tr>\n",
       "                                        <th id=\"T_db5d4_level2_row29\" class=\"row_heading level2 row29\" >0.0</th>\n",
       "                        <td id=\"T_db5d4_row29_col0\" class=\"data row29 col0\" >0.000000</td>\n",
       "            </tr>\n",
       "            <tr>\n",
       "                                        <th id=\"T_db5d4_level2_row30\" class=\"row_heading level2 row30\" >0.5</th>\n",
       "                        <td id=\"T_db5d4_row30_col0\" class=\"data row30 col0\" >0.000000</td>\n",
       "            </tr>\n",
       "            <tr>\n",
       "                                        <th id=\"T_db5d4_level2_row31\" class=\"row_heading level2 row31\" >1.0</th>\n",
       "                        <td id=\"T_db5d4_row31_col0\" class=\"data row31 col0\" >0.000000</td>\n",
       "            </tr>\n",
       "            <tr>\n",
       "                                <th id=\"T_db5d4_level1_row32\" class=\"row_heading level1 row32\" rowspan=\"4\">1.0</th>\n",
       "                        <th id=\"T_db5d4_level2_row32\" class=\"row_heading level2 row32\" >-1.0</th>\n",
       "                        <td id=\"T_db5d4_row32_col0\" class=\"data row32 col0\" >0.177639</td>\n",
       "            </tr>\n",
       "            <tr>\n",
       "                                        <th id=\"T_db5d4_level2_row33\" class=\"row_heading level2 row33\" >0.0</th>\n",
       "                        <td id=\"T_db5d4_row33_col0\" class=\"data row33 col0\" >0.000000</td>\n",
       "            </tr>\n",
       "            <tr>\n",
       "                                        <th id=\"T_db5d4_level2_row34\" class=\"row_heading level2 row34\" >0.5</th>\n",
       "                        <td id=\"T_db5d4_row34_col0\" class=\"data row34 col0\" >0.000000</td>\n",
       "            </tr>\n",
       "            <tr>\n",
       "                                        <th id=\"T_db5d4_level2_row35\" class=\"row_heading level2 row35\" >1.0</th>\n",
       "                        <td id=\"T_db5d4_row35_col0\" class=\"data row35 col0\" >0.000000</td>\n",
       "            </tr>\n",
       "    </tbody></table>"
      ],
      "text/plain": [
       "<pandas.io.formats.style.Styler at 0x7f98d148d940>"
      ]
     },
     "metadata": {},
     "output_type": "display_data"
    }
   ],
   "source": [
    "display(s)"
   ]
  },
  {
   "cell_type": "code",
   "execution_count": 86,
   "metadata": {},
   "outputs": [],
   "source": [
    "p = folder/model_class/experiment_name/\"aggregated_df.pkl\"\n",
    "if not p.is_file():\n",
    "    df.to_pickle(p)"
   ]
  },
  {
   "cell_type": "code",
   "execution_count": 87,
   "metadata": {},
   "outputs": [],
   "source": [
    "p = folder/model_class/experiment_name/\"aggregated_df_std.pkl\"\n",
    "if not p.is_file():\n",
    "    df_std.to_pickle(p)"
   ]
  },
  {
   "cell_type": "code",
   "execution_count": 88,
   "metadata": {},
   "outputs": [],
   "source": [
    "\n",
    "read = False"
   ]
  },
  {
   "cell_type": "code",
   "execution_count": 89,
   "metadata": {},
   "outputs": [],
   "source": [
    "p = folder/model_class/experiment_name/\"aggregated_df_std.pkl\"\n",
    "if read:\n",
    "    df_std = pd.read_pickle(p)"
   ]
  },
  {
   "cell_type": "code",
   "execution_count": 90,
   "metadata": {},
   "outputs": [],
   "source": [
    "p = folder/model_class/experiment_name/\"aggregated_df.pkl\"\n",
    "if read:\n",
    "    df = pd.read_pickle(p)"
   ]
  },
  {
   "cell_type": "code",
   "execution_count": 91,
   "metadata": {},
   "outputs": [],
   "source": [
    "if str(model_class)==\"regression\":\n",
    "    ex_selections = [\"Like\", \"Cooks\", \"par\"]\n",
    "    sim_selections = [\"Like\",\"Cooks\", \"par\"]\n",
    "elif str(model_class)==\"cov\":\n",
    "    ex_selections = [\"Norm1\"]\n",
    "    sim_selections = [\"Norm1\"]"
   ]
  },
  {
   "cell_type": "code",
   "execution_count": null,
   "metadata": {},
   "outputs": [],
   "source": []
  },
  {
   "cell_type": "code",
   "execution_count": 92,
   "metadata": {},
   "outputs": [
    {
     "data": {
      "image/png": "[encoded data removed]",
      "text/plain": [
       "<Figure size 432x288 with 1 Axes>"
      ]
     },
     "metadata": {
      "needs_background": "light"
     },
     "output_type": "display_data"
    }
   ],
   "source": [
    "import matplotlib.pyplot as plt\n",
    "show_reg=True\n",
    "\n",
    "ex_selection=\"Like\"\n",
    "if show_reg:\n",
    "    for ex_selection in ex_selections:\n",
    "        fig, axs = plt.subplots(1, 1)\n",
    "        dx=0\n",
    "        for sim_name, dx in zip(sim_selections, 3*np.array([-0.05,0,0.05])):\n",
    "            labels =[]\n",
    "            values = []\n",
    "            stds =[]\n",
    "            for m, std in zip(df.xs(0.0, level=\"gamma\").xs(ex_selection,level=\"ex\", axis=1).itertuples(), df_std.xs(0.0, level=\"gamma\").xs(ex_selection,level=\"ex\", axis=1).itertuples()):\n",
    "                assert m.Index==std.Index\n",
    "\n",
    "\n",
    "                labels.append(tuple(m.Index))\n",
    "                values.append(getattr(m,sim_name))\n",
    "                stds.append(getattr(std,sim_name))\n",
    "            x = np.arange(len(labels))\n",
    "            fmt = {\"Like\":\"x\", \"Cooks\":\"d\", \"par\":\"o\", \"Norm1\":\"x\"}[sim_name]\n",
    "            plt.errorbar(x+dx, values, yerr=stds, fmt=fmt, label=\"sim=\"+sim_name)\n",
    "\n",
    "        plt.ylim(0,1.1)\n",
    "        xlabels=[l[1] for l in labels]\n",
    "        plt.xticks(x, xlabels, rotation='vertical', fontsize=14)\n",
    "        plt.axvline(3.5,color='k',linestyle=':')\n",
    "        plt.axvline(7.5,color='k',linestyle=':')\n",
    "        plt.text(0.3,0.05, r\"$\\alpha_e=0$\", fontsize=20)\n",
    "        plt.text(4.2,0.05, r\"$\\alpha_e=0.5$\", fontsize=20)\n",
    "        plt.text(8.3,0.05, r\"$\\alpha_e=1.0$\", fontsize=20)\n",
    "        #plt.legend(loc=5)\n",
    "        plt.grid()\n",
    "        if experiment_name.startswith(\"exhaustive\"):\n",
    "            plt.ylabel(\"recall@10\", fontsize=20)\n",
    "        else:\n",
    "            plt.gca().tick_params(labelleft=False)    \n",
    "        plt.xlabel(r\"$\\alpha_s$\", fontsize=20)\n",
    "        \n",
    "        abbr = str(model_class)[:3]\n",
    "        \n",
    "        plt.savefig(pre_folder/Path('matplotlib_images')/f'synthetic-{abbr}-top10-{experiment_name}-ex-{ex_selection}.pdf',bbox_inches = 'tight')\n",
    "        plt.savefig(pre_folder/Path('matplotlib_images')/f'synthetic-{abbr}-top10-{experiment_name}-ex-{ex_selection}.png',bbox_inches = 'tight')\n",
    "        plt.show()\n",
    "            "
   ]
  },
  {
   "cell_type": "code",
   "execution_count": 56,
   "metadata": {},
   "outputs": [
    {
     "name": "stdout",
     "output_type": "stream",
     "text": [
      "(0.05, 0.05)\n"
     ]
    },
    {
     "data": {
      "image/png": "[encoded data removed]",
      "text/plain": [
       "<Figure size 468x108 with 1 Axes>"
      ]
     },
     "metadata": {},
     "output_type": "display_data"
    },
    {
     "data": {
      "image/png": "[encoded data removed]",
      "text/plain": [
       "<Figure size 468x108 with 1 Axes>"
      ]
     },
     "metadata": {
      "needs_background": "light"
     },
     "output_type": "display_data"
    }
   ],
   "source": [
    "\n",
    "\n",
    "fig, legend_ax = plt.subplots(1, 1,figsize=(6.5, 1.5), sharey=True)\n",
    "#fig.set_facecolor(\"black\")\n",
    "#fig.pad_inches(0)\n",
    "fig.set_tight_layout(True)\n",
    "#legend_ax.set_facecolor(\"black\")\n",
    "#legend_ax.set_ymargin(-0.1)\n",
    "handles, labels = axs.get_legend_handles_labels()\n",
    "legend_ax.axis('off')\n",
    "print(legend_ax.margins())\n",
    "#legend_ax.margins(y=0)\n",
    "fontsize=10\n",
    "fig.legend(handles, labels, loc='center', mode=\"expand\", ncol=6,  fontsize=14)\n",
    "#legend_ax.set_autoscale(enable=True, tight=True)\n",
    "display(fig)\n",
    "\n",
    "filetype=\"png\"\n",
    "fig.savefig(pre_folder/Path('matplotlib_images')/(f'legend{fontsize}.'+filetype))\n",
    "\n"
   ]
  },
  {
   "cell_type": "code",
   "execution_count": 116,
   "metadata": {},
   "outputs": [],
   "source": [
    "\n",
    "show_cov=False\n",
    "if show_cov:\n",
    "    labels =[]\n",
    "    values = []\n",
    "    stds =[]\n",
    "    for m, std in zip(df.loc[0].itertuples(), df_std.loc[0].itertuples()):\n",
    "        assert m.Index==std.Index\n",
    "        labels.append(tuple(m.Index))\n",
    "        values.append(m._1)\n",
    "        stds.append(std._1)\n",
    "    x = np.arange(len(labels))\n",
    "    plt.errorbar(x, values, yerr=stds, fmt=\"x\")\n",
    "    plt.axvline(3.5,color='k',linestyle=':')\n",
    "    plt.axvline(7.5,color='k',linestyle=':')\n",
    "    xlabels=[l[1] for l in labels]\n",
    "    plt.xticks(x, xlabels, rotation='vertical')\n",
    "    d=0.2\n",
    "    plt.text(0.5,0.05+d, r\"$\\alpha_e=0$\", fontsize=12)\n",
    "    plt.text(4.5,0.05+d, r\"$\\alpha_e=0.5$\", fontsize=12)\n",
    "    plt.text(8.5,0.05+d, r\"$\\alpha_e=1.0$\", fontsize=12)\n",
    "    plt.ylabel(\"recall in top 10\")\n",
    "    plt.xlabel(r\"$\\alpha_s$\", fontsize=12)\n",
    "    plt.grid()\n",
    "    plt.savefig(\"L:/experiments\"/Path('matplotlib_images')/f'synthetic-cov-top10-{experiment_name}.png',bbox='tight',bbox_inches = 'tight')\n",
    "    plt.show()"
   ]
  },
  {
   "cell_type": "code",
   "execution_count": 34,
   "metadata": {},
   "outputs": [],
   "source": [
    "if False:\n",
    "    with open(Path.home()/Path('experiments')/date_path/model_class/(evaluation_name+'.tex'),'w') as outfile:\n",
    "        outfile.write(df.sort_index().to_latex())"
   ]
  },
  {
   "cell_type": "code",
   "execution_count": 28,
   "metadata": {},
   "outputs": [],
   "source": [
    "import math\n",
    "def str_with_err(value, error):\n",
    "    digits = -int(math.floor(math.log10(error)))\n",
    "    return \"{0:.{2}f}({1:.0f})\".format(value, math.floor(error*10**digits), digits)\n",
    "\n",
    "def to_k_digits(value,error,k):\n",
    "    return \"${0:.0f}\\pm {1:02.0f}$\".format(value*10**k, error*10**k, k)\n",
    "def merge_mean_std(mean_df, std_df):\n",
    "    new_tpls=[]\n",
    "    for (row_mean,row_std) in zip(mean_df.itertuples(), std_df.itertuples()):\n",
    "        new_tpls.append(tuple(to_k_digits(m,s,2) for m,s in zip(row_mean[1:],row_std[1:])))\n",
    "    return pd.DataFrame.from_records(new_tpls, index = mean_df.index, columns=mean_df.columns)\n",
    "df_merged=merge_mean_std(df,df_std)"
   ]
  },
  {
   "cell_type": "code",
   "execution_count": 29,
   "metadata": {},
   "outputs": [
    {
     "name": "stdout",
     "output_type": "stream",
     "text": [
      "\\begin{tabular}{llll}\n",
      "\\toprule\n",
      "    &     & ex &      Norm 1 \\\\\n",
      "    &     & sim &      Norm 1 \\\\\n",
      "gamma & beta & alpha &             \\\\\n",
      "\\midrule\n",
      "0.0 & 0.0 & -1.0 &  $18\\pm 15$ \\\\\n",
      "    &     &  0.0 &  $53\\pm 28$ \\\\\n",
      "    &     &  0.5 &  $49\\pm 28$ \\\\\n",
      "    &     &  1.0 &  $50\\pm 29$ \\\\\n",
      "    & 0.5 & -1.0 &  $64\\pm 14$ \\\\\n",
      "    &     &  0.0 &  $87\\pm 19$ \\\\\n",
      "    &     &  0.5 &  $79\\pm 31$ \\\\\n",
      "    &     &  1.0 &  $75\\pm 36$ \\\\\n",
      "    & 1.0 & -1.0 &  $92\\pm 06$ \\\\\n",
      "    &     &  0.0 &  $93\\pm 13$ \\\\\n",
      "    &     &  0.5 &  $91\\pm 19$ \\\\\n",
      "    &     &  1.0 &  $80\\pm 34$ \\\\\n",
      "0.5 & 0.0 & -1.0 &  $90\\pm 14$ \\\\\n",
      "    &     &  0.0 &  $43\\pm 38$ \\\\\n",
      "    &     &  0.5 &  $18\\pm 36$ \\\\\n",
      "    &     &  1.0 &   $2\\pm 04$ \\\\\n",
      "    & 0.5 & -1.0 &  $94\\pm 10$ \\\\\n",
      "    &     &  0.0 &  $56\\pm 39$ \\\\\n",
      "    &     &  0.5 &  $24\\pm 36$ \\\\\n",
      "    &     &  1.0 &   $7\\pm 13$ \\\\\n",
      "    & 1.0 & -1.0 &  $94\\pm 10$ \\\\\n",
      "    &     &  0.0 &  $72\\pm 30$ \\\\\n",
      "    &     &  0.5 &  $37\\pm 38$ \\\\\n",
      "    &     &  1.0 &  $15\\pm 27$ \\\\\n",
      "1.0 & 0.0 & -1.0 &  $12\\pm 11$ \\\\\n",
      "    &     &  0.0 &   $1\\pm 03$ \\\\\n",
      "    &     &  0.5 &   $0\\pm 00$ \\\\\n",
      "    &     &  1.0 &   $0\\pm 00$ \\\\\n",
      "    & 0.5 & -1.0 &  $12\\pm 11$ \\\\\n",
      "    &     &  0.0 &   $1\\pm 03$ \\\\\n",
      "    &     &  0.5 &   $0\\pm 00$ \\\\\n",
      "    &     &  1.0 &   $0\\pm 00$ \\\\\n",
      "    & 1.0 & -1.0 &  $12\\pm 11$ \\\\\n",
      "    &     &  0.0 &   $2\\pm 04$ \\\\\n",
      "    &     &  0.5 &   $0\\pm 00$ \\\\\n",
      "    &     &  1.0 &   $0\\pm 00$ \\\\\n",
      "\\bottomrule\n",
      "\\end{tabular}\n",
      "\n"
     ]
    }
   ],
   "source": [
    "print(df_merged.sort_index().to_latex(escape=False))\n"
   ]
  },
  {
   "cell_type": "code",
   "execution_count": 52,
   "metadata": {},
   "outputs": [],
   "source": [
    "def add_colouring_to_table(df_str, df_mean, min_sat=0, max_sat=80):\n",
    "    max_val=-10**10\n",
    "    min_val=10**10\n",
    "    for col in df_mean.columns:\n",
    "        max_val=max(max_val, df_mean[col].max())\n",
    "        min_val=min(min_val, df_mean[col].min())\n",
    "    print(min_val, max_val)\n",
    "    df_out=df_str.copy()\n",
    "    for col in df_mean.columns:\n",
    "        color_values=np.array(np.round(np.interp(np.power(df_mean[col].values,3),[0,1],[min_sat,max_sat])),dtype=int)\n",
    "        color_strs=[]\n",
    "        for i,val in enumerate(color_values):\n",
    "            color_strs.append(\"\\cellcolor{green!\"+str(val)+\"!white}\"+str(df_str[col].values[i]))\n",
    "        df_out[col]=color_strs\n",
    "    return df_out\n",
    "def highlight_max_values_in_column(df_str, df_mean):\n",
    "    max_dict={col:df_mean[col].max() for col in df_mean.columns}\n",
    "\n",
    "    df_out=df_str.copy()\n",
    "    for col in df_mean.columns:\n",
    "        should_highlight = df_mean[col].values==max_dict[col]\n",
    "        for i,val in enumerate(df_mean[col]):\n",
    "            if should_highlight[i]:\n",
    "                 df_out[col][i]=r\"\\textbf{\"+df_out[col].values[i]+\"}\"\n",
    "    return df_out\n",
    "\n",
    "def highlight_exceptionalities(df_str, df_mean,column_count):\n",
    "    df_out=df_str.copy()\n",
    "    for k in range(0,len(df_mean.columns),column_count):\n",
    "        arrs=[]\n",
    "        for j in range(0, column_count):\n",
    "            arrs.append(df_mean[df_mean.columns[k+j]].to_numpy())\n",
    "        maxes=np.argmax(np.array(arrs),axis=0)\n",
    "        for j in range(0, column_count):\n",
    "            col=df_mean.columns[k+j]\n",
    "            values=df_out[col].to_numpy()\n",
    "            for i in range(len(df_out)):\n",
    "                if maxes[i]==j:\n",
    "                    values[i]=r\"\\textit{\"+values[i]+\"}\"\n",
    "    return df_out\n",
    "def apply_highlights(df_str,df_mean):\n",
    "    return add_colouring_to_table(df_str,df_mean)"
   ]
  },
  {
   "cell_type": "code",
   "execution_count": 53,
   "metadata": {},
   "outputs": [],
   "source": [
    "#print(highlight_exceptionalities(df_merged, df,3).to_latex(escape=False))"
   ]
  },
  {
   "cell_type": "code",
   "execution_count": 57,
   "metadata": {},
   "outputs": [
    {
     "name": "stdout",
     "output_type": "stream",
     "text": [
      "0.0 0.9399999999999998\n",
      "writing to:  L:\\experiments\\06_03\\cov\\cov_mine_pair5_results_top10.tex\n",
      "0.0 0.99\n",
      "writing to:  L:\\experiments\\06_03\\cov\\cov_mine_pair5_results_top25.tex\n",
      "3.450939097724934 101.00000000000001\n",
      "writing to:  L:\\experiments\\06_03\\cov\\cov_mine_pair5_results_mir.tex\n"
     ]
    }
   ],
   "source": [
    "#del df, df_merged, df_std\n",
    "if True:\n",
    "    for evaluation_name in ['top10','top25','mir']:\n",
    "        #evaluation_name='top10'\n",
    "        df = unstack_index(result_frames[evaluation_name], np.mean).sort_index()\n",
    "        df_std = unstack_index(result_frames[evaluation_name], np.std).sort_index()\n",
    "        df_merged=merge_mean_std(df,df_std)\n",
    "        df_out=apply_highlights(df_merged, df)\n",
    "        suffix=''\n",
    "        for i in range(0,len(df.columns),8):\n",
    "            df_print=df_out[df_out.columns[i:i+8]]\n",
    "            df_print.index=df_print.index.rename(map({'gamma':r'$\\gamma$','beta':r'$\\beta$','alpha':r'$\\alpha$'}.get,df_print.index.names))\n",
    "            suffix='_'+str(int(i/8))\n",
    "            if i==0:\n",
    "                suffix=''\n",
    "            out_path=folder/model_class/(str(model_class)+'_'+experiment_name+'_'+evaluation_name+suffix)\n",
    "            latex_path=Path(str(out_path)+'.tex')\n",
    "            df_path=Path(str(out_path)+'.pickle')\n",
    "            df_std_path=Path(str(out_path)+\"_std\"+'.pickle')\n",
    "            with open(latex_path,'w') as outfile:\n",
    "                print('writing to: ', latex_path)\n",
    "                outfile.write(df_print.to_latex(escape=False))\n",
    "            df.to_pickle(df_path)\n",
    "            df_std.to_pickle(df_std_path)"
   ]
  },
  {
   "cell_type": "code",
   "execution_count": 15,
   "metadata": {},
   "outputs": [
    {
     "ename": "KeyError",
     "evalue": "'Like'",
     "output_type": "error",
     "traceback": [
      "\u001b[1;31m---------------------------------------------------------------------------\u001b[0m",
      "\u001b[1;31mKeyError\u001b[0m                                  Traceback (most recent call last)",
      "\u001b[1;32me:\\Masterarbeit\\pysubgroup\\pysubgroup\\env_pysubgroup\\lib\\site-packages\\pandas\\core\\indexes\\base.py\u001b[0m in \u001b[0;36mget_loc\u001b[1;34m(self, key, method, tolerance)\u001b[0m\n\u001b[0;32m   2896\u001b[0m             \u001b[1;32mtry\u001b[0m\u001b[1;33m:\u001b[0m\u001b[1;33m\u001b[0m\u001b[1;33m\u001b[0m\u001b[0m\n\u001b[1;32m-> 2897\u001b[1;33m                 \u001b[1;32mreturn\u001b[0m \u001b[0mself\u001b[0m\u001b[1;33m.\u001b[0m\u001b[0m_engine\u001b[0m\u001b[1;33m.\u001b[0m\u001b[0mget_loc\u001b[0m\u001b[1;33m(\u001b[0m\u001b[0mkey\u001b[0m\u001b[1;33m)\u001b[0m\u001b[1;33m\u001b[0m\u001b[1;33m\u001b[0m\u001b[0m\n\u001b[0m\u001b[0;32m   2898\u001b[0m             \u001b[1;32mexcept\u001b[0m \u001b[0mKeyError\u001b[0m\u001b[1;33m:\u001b[0m\u001b[1;33m\u001b[0m\u001b[1;33m\u001b[0m\u001b[0m\n",
      "\u001b[1;32mpandas\\_libs\\index.pyx\u001b[0m in \u001b[0;36mpandas._libs.index.IndexEngine.get_loc\u001b[1;34m()\u001b[0m\n",
      "\u001b[1;32mpandas\\_libs\\index.pyx\u001b[0m in \u001b[0;36mpandas._libs.index.IndexEngine.get_loc\u001b[1;34m()\u001b[0m\n",
      "\u001b[1;32mpandas\\_libs\\hashtable_class_helper.pxi\u001b[0m in \u001b[0;36mpandas._libs.hashtable.PyObjectHashTable.get_item\u001b[1;34m()\u001b[0m\n",
      "\u001b[1;32mpandas\\_libs\\hashtable_class_helper.pxi\u001b[0m in \u001b[0;36mpandas._libs.hashtable.PyObjectHashTable.get_item\u001b[1;34m()\u001b[0m\n",
      "\u001b[1;31mKeyError\u001b[0m: 'Like'",
      "\nDuring handling of the above exception, another exception occurred:\n",
      "\u001b[1;31mKeyError\u001b[0m                                  Traceback (most recent call last)",
      "\u001b[1;32m<ipython-input-15-316803c76c67>\u001b[0m in \u001b[0;36m<module>\u001b[1;34m\u001b[0m\n\u001b[1;32m----> 1\u001b[1;33m \u001b[0mdisplay\u001b[0m\u001b[1;33m(\u001b[0m\u001b[0mresult_frames\u001b[0m\u001b[1;33m[\u001b[0m\u001b[1;34m'raw'\u001b[0m\u001b[1;33m]\u001b[0m\u001b[1;33m.\u001b[0m\u001b[0mxs\u001b[0m\u001b[1;33m(\u001b[0m\u001b[1;36m0\u001b[0m\u001b[1;33m,\u001b[0m\u001b[0mlevel\u001b[0m\u001b[1;33m=\u001b[0m\u001b[1;34m'beta'\u001b[0m\u001b[1;33m)\u001b[0m\u001b[1;33m.\u001b[0m\u001b[0mxs\u001b[0m\u001b[1;33m(\u001b[0m\u001b[1;36m0\u001b[0m\u001b[1;33m,\u001b[0m\u001b[0mlevel\u001b[0m\u001b[1;33m=\u001b[0m\u001b[1;34m'gamma'\u001b[0m\u001b[1;33m)\u001b[0m\u001b[1;33m.\u001b[0m\u001b[0mxs\u001b[0m\u001b[1;33m(\u001b[0m\u001b[1;34m'Like'\u001b[0m\u001b[1;33m,\u001b[0m\u001b[0mlevel\u001b[0m\u001b[1;33m=\u001b[0m\u001b[1;34m'ex'\u001b[0m\u001b[1;33m)\u001b[0m\u001b[1;33m)\u001b[0m\u001b[1;33m\u001b[0m\u001b[1;33m\u001b[0m\u001b[0m\n\u001b[0m",
      "\u001b[1;32me:\\Masterarbeit\\pysubgroup\\pysubgroup\\env_pysubgroup\\lib\\site-packages\\pandas\\core\\generic.py\u001b[0m in \u001b[0;36mxs\u001b[1;34m(self, key, axis, level, drop_level)\u001b[0m\n\u001b[0;32m   3715\u001b[0m         \u001b[0mlabels\u001b[0m \u001b[1;33m=\u001b[0m \u001b[0mself\u001b[0m\u001b[1;33m.\u001b[0m\u001b[0m_get_axis\u001b[0m\u001b[1;33m(\u001b[0m\u001b[0maxis\u001b[0m\u001b[1;33m)\u001b[0m\u001b[1;33m\u001b[0m\u001b[1;33m\u001b[0m\u001b[0m\n\u001b[0;32m   3716\u001b[0m         \u001b[1;32mif\u001b[0m \u001b[0mlevel\u001b[0m \u001b[1;32mis\u001b[0m \u001b[1;32mnot\u001b[0m \u001b[1;32mNone\u001b[0m\u001b[1;33m:\u001b[0m\u001b[1;33m\u001b[0m\u001b[1;33m\u001b[0m\u001b[0m\n\u001b[1;32m-> 3717\u001b[1;33m             \u001b[0mloc\u001b[0m\u001b[1;33m,\u001b[0m \u001b[0mnew_ax\u001b[0m \u001b[1;33m=\u001b[0m \u001b[0mlabels\u001b[0m\u001b[1;33m.\u001b[0m\u001b[0mget_loc_level\u001b[0m\u001b[1;33m(\u001b[0m\u001b[0mkey\u001b[0m\u001b[1;33m,\u001b[0m \u001b[0mlevel\u001b[0m\u001b[1;33m=\u001b[0m\u001b[0mlevel\u001b[0m\u001b[1;33m,\u001b[0m \u001b[0mdrop_level\u001b[0m\u001b[1;33m=\u001b[0m\u001b[0mdrop_level\u001b[0m\u001b[1;33m)\u001b[0m\u001b[1;33m\u001b[0m\u001b[1;33m\u001b[0m\u001b[0m\n\u001b[0m\u001b[0;32m   3718\u001b[0m \u001b[1;33m\u001b[0m\u001b[0m\n\u001b[0;32m   3719\u001b[0m             \u001b[1;31m# create the tuple of the indexer\u001b[0m\u001b[1;33m\u001b[0m\u001b[1;33m\u001b[0m\u001b[1;33m\u001b[0m\u001b[0m\n",
      "\u001b[1;32me:\\Masterarbeit\\pysubgroup\\pysubgroup\\env_pysubgroup\\lib\\site-packages\\pandas\\core\\indexes\\multi.py\u001b[0m in \u001b[0;36mget_loc_level\u001b[1;34m(self, key, level, drop_level)\u001b[0m\n\u001b[0;32m   2854\u001b[0m                 \u001b[1;32mreturn\u001b[0m \u001b[0mindexer\u001b[0m\u001b[1;33m,\u001b[0m \u001b[0mmaybe_droplevels\u001b[0m\u001b[1;33m(\u001b[0m\u001b[0mindexer\u001b[0m\u001b[1;33m,\u001b[0m \u001b[0milevels\u001b[0m\u001b[1;33m,\u001b[0m \u001b[0mdrop_level\u001b[0m\u001b[1;33m)\u001b[0m\u001b[1;33m\u001b[0m\u001b[1;33m\u001b[0m\u001b[0m\n\u001b[0;32m   2855\u001b[0m         \u001b[1;32melse\u001b[0m\u001b[1;33m:\u001b[0m\u001b[1;33m\u001b[0m\u001b[1;33m\u001b[0m\u001b[0m\n\u001b[1;32m-> 2856\u001b[1;33m             \u001b[0mindexer\u001b[0m \u001b[1;33m=\u001b[0m \u001b[0mself\u001b[0m\u001b[1;33m.\u001b[0m\u001b[0m_get_level_indexer\u001b[0m\u001b[1;33m(\u001b[0m\u001b[0mkey\u001b[0m\u001b[1;33m,\u001b[0m \u001b[0mlevel\u001b[0m\u001b[1;33m=\u001b[0m\u001b[0mlevel\u001b[0m\u001b[1;33m)\u001b[0m\u001b[1;33m\u001b[0m\u001b[1;33m\u001b[0m\u001b[0m\n\u001b[0m\u001b[0;32m   2857\u001b[0m             \u001b[1;32mreturn\u001b[0m \u001b[0mindexer\u001b[0m\u001b[1;33m,\u001b[0m \u001b[0mmaybe_droplevels\u001b[0m\u001b[1;33m(\u001b[0m\u001b[0mindexer\u001b[0m\u001b[1;33m,\u001b[0m \u001b[1;33m[\u001b[0m\u001b[0mlevel\u001b[0m\u001b[1;33m]\u001b[0m\u001b[1;33m,\u001b[0m \u001b[0mdrop_level\u001b[0m\u001b[1;33m)\u001b[0m\u001b[1;33m\u001b[0m\u001b[1;33m\u001b[0m\u001b[0m\n\u001b[0;32m   2858\u001b[0m \u001b[1;33m\u001b[0m\u001b[0m\n",
      "\u001b[1;32me:\\Masterarbeit\\pysubgroup\\pysubgroup\\env_pysubgroup\\lib\\site-packages\\pandas\\core\\indexes\\multi.py\u001b[0m in \u001b[0;36m_get_level_indexer\u001b[1;34m(self, key, level, indexer)\u001b[0m\n\u001b[0;32m   2937\u001b[0m         \u001b[1;32melse\u001b[0m\u001b[1;33m:\u001b[0m\u001b[1;33m\u001b[0m\u001b[1;33m\u001b[0m\u001b[0m\n\u001b[0;32m   2938\u001b[0m \u001b[1;33m\u001b[0m\u001b[0m\n\u001b[1;32m-> 2939\u001b[1;33m             \u001b[0mcode\u001b[0m \u001b[1;33m=\u001b[0m \u001b[0mlevel_index\u001b[0m\u001b[1;33m.\u001b[0m\u001b[0mget_loc\u001b[0m\u001b[1;33m(\u001b[0m\u001b[0mkey\u001b[0m\u001b[1;33m)\u001b[0m\u001b[1;33m\u001b[0m\u001b[1;33m\u001b[0m\u001b[0m\n\u001b[0m\u001b[0;32m   2940\u001b[0m \u001b[1;33m\u001b[0m\u001b[0m\n\u001b[0;32m   2941\u001b[0m             \u001b[1;32mif\u001b[0m \u001b[0mlevel\u001b[0m \u001b[1;33m>\u001b[0m \u001b[1;36m0\u001b[0m \u001b[1;32mor\u001b[0m \u001b[0mself\u001b[0m\u001b[1;33m.\u001b[0m\u001b[0mlexsort_depth\u001b[0m \u001b[1;33m==\u001b[0m \u001b[1;36m0\u001b[0m\u001b[1;33m:\u001b[0m\u001b[1;33m\u001b[0m\u001b[1;33m\u001b[0m\u001b[0m\n",
      "\u001b[1;32me:\\Masterarbeit\\pysubgroup\\pysubgroup\\env_pysubgroup\\lib\\site-packages\\pandas\\core\\indexes\\base.py\u001b[0m in \u001b[0;36mget_loc\u001b[1;34m(self, key, method, tolerance)\u001b[0m\n\u001b[0;32m   2897\u001b[0m                 \u001b[1;32mreturn\u001b[0m \u001b[0mself\u001b[0m\u001b[1;33m.\u001b[0m\u001b[0m_engine\u001b[0m\u001b[1;33m.\u001b[0m\u001b[0mget_loc\u001b[0m\u001b[1;33m(\u001b[0m\u001b[0mkey\u001b[0m\u001b[1;33m)\u001b[0m\u001b[1;33m\u001b[0m\u001b[1;33m\u001b[0m\u001b[0m\n\u001b[0;32m   2898\u001b[0m             \u001b[1;32mexcept\u001b[0m \u001b[0mKeyError\u001b[0m\u001b[1;33m:\u001b[0m\u001b[1;33m\u001b[0m\u001b[1;33m\u001b[0m\u001b[0m\n\u001b[1;32m-> 2899\u001b[1;33m                 \u001b[1;32mreturn\u001b[0m \u001b[0mself\u001b[0m\u001b[1;33m.\u001b[0m\u001b[0m_engine\u001b[0m\u001b[1;33m.\u001b[0m\u001b[0mget_loc\u001b[0m\u001b[1;33m(\u001b[0m\u001b[0mself\u001b[0m\u001b[1;33m.\u001b[0m\u001b[0m_maybe_cast_indexer\u001b[0m\u001b[1;33m(\u001b[0m\u001b[0mkey\u001b[0m\u001b[1;33m)\u001b[0m\u001b[1;33m)\u001b[0m\u001b[1;33m\u001b[0m\u001b[1;33m\u001b[0m\u001b[0m\n\u001b[0m\u001b[0;32m   2900\u001b[0m         \u001b[0mindexer\u001b[0m \u001b[1;33m=\u001b[0m \u001b[0mself\u001b[0m\u001b[1;33m.\u001b[0m\u001b[0mget_indexer\u001b[0m\u001b[1;33m(\u001b[0m\u001b[1;33m[\u001b[0m\u001b[0mkey\u001b[0m\u001b[1;33m]\u001b[0m\u001b[1;33m,\u001b[0m \u001b[0mmethod\u001b[0m\u001b[1;33m=\u001b[0m\u001b[0mmethod\u001b[0m\u001b[1;33m,\u001b[0m \u001b[0mtolerance\u001b[0m\u001b[1;33m=\u001b[0m\u001b[0mtolerance\u001b[0m\u001b[1;33m)\u001b[0m\u001b[1;33m\u001b[0m\u001b[1;33m\u001b[0m\u001b[0m\n\u001b[0;32m   2901\u001b[0m         \u001b[1;32mif\u001b[0m \u001b[0mindexer\u001b[0m\u001b[1;33m.\u001b[0m\u001b[0mndim\u001b[0m \u001b[1;33m>\u001b[0m \u001b[1;36m1\u001b[0m \u001b[1;32mor\u001b[0m \u001b[0mindexer\u001b[0m\u001b[1;33m.\u001b[0m\u001b[0msize\u001b[0m \u001b[1;33m>\u001b[0m \u001b[1;36m1\u001b[0m\u001b[1;33m:\u001b[0m\u001b[1;33m\u001b[0m\u001b[1;33m\u001b[0m\u001b[0m\n",
      "\u001b[1;32mpandas\\_libs\\index.pyx\u001b[0m in \u001b[0;36mpandas._libs.index.IndexEngine.get_loc\u001b[1;34m()\u001b[0m\n",
      "\u001b[1;32mpandas\\_libs\\index.pyx\u001b[0m in \u001b[0;36mpandas._libs.index.IndexEngine.get_loc\u001b[1;34m()\u001b[0m\n",
      "\u001b[1;32mpandas\\_libs\\hashtable_class_helper.pxi\u001b[0m in \u001b[0;36mpandas._libs.hashtable.PyObjectHashTable.get_item\u001b[1;34m()\u001b[0m\n",
      "\u001b[1;32mpandas\\_libs\\hashtable_class_helper.pxi\u001b[0m in \u001b[0;36mpandas._libs.hashtable.PyObjectHashTable.get_item\u001b[1;34m()\u001b[0m\n",
      "\u001b[1;31mKeyError\u001b[0m: 'Like'"
     ]
    }
   ],
   "source": [
    "display(result_frames['raw'].xs(0,level='beta').xs(0,level='gamma').xs('Like',level='ex'))"
   ]
  },
  {
   "cell_type": "code",
   "execution_count": null,
   "metadata": {},
   "outputs": [],
   "source": [
    "display(result_frames['raw'].xs(0,level='beta').xs(0,level='gamma').xs('Log',level='ex'))"
   ]
  },
  {
   "cell_type": "code",
   "execution_count": null,
   "metadata": {},
   "outputs": [],
   "source": []
  }
 ],
 "metadata": {
  "file_extension": ".py",
  "kernelspec": {
   "display_name": "Python 3",
   "language": "python",
   "name": "python3"
  },
  "language_info": {
   "codemirror_mode": {
    "name": "ipython",
    "version": 3
   },
   "file_extension": ".py",
   "mimetype": "text/x-python",
   "name": "python",
   "nbconvert_exporter": "python",
   "pygments_lexer": "ipython3",
   "version": "3.8.5"
  },
  "mimetype": "text/x-python",
  "name": "python",
  "npconvert_exporter": "python",
  "pygments_lexer": "ipython3",
  "version": 3
 },
 "nbformat": 4,
 "nbformat_minor": 2
}
