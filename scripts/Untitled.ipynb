{
 "cells": [
  {
   "cell_type": "code",
   "execution_count": 1,
   "metadata": {},
   "outputs": [],
   "source": [
    "from RDMM.generate_correlation import *"
   ]
  },
  {
   "cell_type": "code",
   "execution_count": 2,
   "metadata": {},
   "outputs": [
    {
     "data": {
      "text/plain": [
       "array([[ 6.18017047,  0.17570553,  0.1193527 ,  0.14205115, -0.25302322],\n",
       "       [ 0.17570553,  5.44400363, -0.37135996, -0.6212279 ,  0.8133129 ],\n",
       "       [ 0.1193527 , -0.37135996,  6.39380018,  0.02474831,  0.05096295],\n",
       "       [ 0.14205115, -0.6212279 ,  0.02474831,  6.81282028,  0.11400783],\n",
       "       [-0.25302322,  0.8133129 ,  0.05096295,  0.11400783,  5.47424879]])"
      ]
     },
     "execution_count": 2,
     "metadata": {},
     "output_type": "execute_result"
    }
   ],
   "source": [
    "generate_cov_parameters(5)"
   ]
  },
  {
   "cell_type": "code",
   "execution_count": 3,
   "metadata": {},
   "outputs": [],
   "source": [
    "import numpy as np"
   ]
  },
  {
   "cell_type": "code",
   "execution_count": 4,
   "metadata": {},
   "outputs": [],
   "source": [
    "def generate_cov_parameters(d, d_sigma=(0.1, 10)):\n",
    "    q, _ = np.linalg.qr(np.random.rand(d,d))\n",
    "    Lambda = np.diag(np.random.uniform(*d_sigma, size=d))\n",
    "    print(Lambda)\n",
    "    arr=q @ Lambda @ q.T\n",
    "    return arr"
   ]
  },
  {
   "cell_type": "code",
   "execution_count": 5,
   "metadata": {},
   "outputs": [
    {
     "name": "stdout",
     "output_type": "stream",
     "text": [
      "[[3.25434257 0.         0.         0.         0.        ]\n",
      " [0.         0.72802631 0.         0.         0.        ]\n",
      " [0.         0.         6.11110487 0.         0.        ]\n",
      " [0.         0.         0.         0.24615332 0.        ]\n",
      " [0.         0.         0.         0.         0.84548337]]\n"
     ]
    },
    {
     "data": {
      "text/plain": [
       "(array([0.24615332, 0.72802631, 0.84548337, 3.25434257, 6.11110487]),\n",
       " array([[-0.70833802, -0.19735129,  0.08425441,  0.24719896, -0.62538275],\n",
       "        [ 0.16901114,  0.59618058, -0.41396787,  0.64156384, -0.18174266],\n",
       "        [-0.3758568 , -0.35174468, -0.25728404,  0.45278659,  0.68102612],\n",
       "        [ 0.48273779, -0.67860776, -0.41893377,  0.13839988, -0.33435864],\n",
       "        [ 0.30885008, -0.14624764,  0.76146649,  0.55056179,  0.01654526]]))"
      ]
     },
     "execution_count": 5,
     "metadata": {},
     "output_type": "execute_result"
    }
   ],
   "source": [
    "np.linalg.eigh(generate_cov_parameters(5))"
   ]
  },
  {
   "cell_type": "code",
   "execution_count": null,
   "metadata": {},
   "outputs": [],
   "source": []
  }
 ],
 "metadata": {
  "kernelspec": {
   "display_name": "Python 3",
   "language": "python",
   "name": "python3"
  },
  "language_info": {
   "codemirror_mode": {
    "name": "ipython",
    "version": 3
   },
   "file_extension": ".py",
   "mimetype": "text/x-python",
   "name": "python",
   "nbconvert_exporter": "python",
   "pygments_lexer": "ipython3",
   "version": "3.8.3rc1"
  }
 },
 "nbformat": 4,
 "nbformat_minor": 4
}
