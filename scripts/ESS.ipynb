{
 "cells": [
  {
   "cell_type": "code",
   "execution_count": 1,
   "metadata": {},
   "outputs": [],
   "source": [
    "import numpy as np\n",
    "import pandas as pd\n",
    "import os\n",
    "from pathlib import Path\n",
    "from codebook import get_codebook\n",
    "# R package:   https://cran.r-project.org/web/packages/essurvey/vignettes/intro_ess.html"
   ]
  },
  {
   "cell_type": "code",
   "execution_count": 2,
   "metadata": {},
   "outputs": [],
   "source": [
    "# Other format\n",
    "#df=pd.read_sas('E:/tmp/ESS/ess9e01_2.sas7bdat')"
   ]
  },
  {
   "cell_type": "code",
   "execution_count": 3,
   "metadata": {},
   "outputs": [],
   "source": []
  },
  {
   "cell_type": "code",
   "execution_count": 4,
   "metadata": {},
   "outputs": [
    {
     "name": "stdout",
     "output_type": "stream",
     "text": [
      "admin.txt\n",
      "country.txt\n",
      "gender.txt\n",
      "justfair.txt\n",
      "media.txt\n",
      "politics.txt\n",
      "sociodemo.txt\n",
      "timing.txt\n",
      "values.txt\n",
      "weight.txt\n",
      "wellb.txt\n"
     ]
    }
   ],
   "source": [
    "# Download SPSS from https://www.europeansocialsurvey.org/download.html?file=ESS9e01_2&y=2018\n",
    "df_9_in = load_pkl_or_SPSS('E:/tmp/ESS/ess9e01_2.sav')\n",
    "cb_9, cb_9_flat = get_codebook('E:/playground/ESS/codebooks/ESS9')"
   ]
  },
  {
   "cell_type": "code",
   "execution_count": 5,
   "metadata": {},
   "outputs": [],
   "source": [
    "# df_sas=pd.read_sas('E:/tmp/ESS/ess9e01_2.sas7bdat')"
   ]
  },
  {
   "cell_type": "code",
   "execution_count": 6,
   "metadata": {},
   "outputs": [],
   "source": [
    "#df3=pd.read_stata('E:/tmp/ESS/ess9e01_2.dta', convert_categoricals=False)"
   ]
  },
  {
   "cell_type": "code",
   "execution_count": 7,
   "metadata": {
    "tags": [
     "outputPrepend"
    ]
   },
   "outputs": [
    {
     "name": "stdout",
     "output_type": "stream",
     "text": [
      "Grabbing all german related stuff\n",
      "14\n"
     ]
    },
    {
     "data": {
      "text/plain": [
       "['prtvede1',\n",
       " 'prtvede2',\n",
       " 'prtclede',\n",
       " 'rlgdnade',\n",
       " 'rlgdeade',\n",
       " 'edubde1',\n",
       " 'eduade2',\n",
       " 'edupbde1',\n",
       " 'edupade2',\n",
       " 'edufbde1',\n",
       " 'edufade2',\n",
       " 'edumbde1',\n",
       " 'edumade2',\n",
       " 'inwdde']"
      ]
     },
     "execution_count": 7,
     "metadata": {},
     "output_type": "execute_result"
    }
   ],
   "source": [
    "codes={    'de' : {'de', 'de1', 'de2'}}\n",
    "code_list=['bat', 'be', 'ach', 'afi']\n",
    "l=[]\n",
    "for col in df_9_in.columns:\n",
    "    if col.endswith('de') or col.endswith('de1') or col.endswith('de2'):\n",
    "        #print(df[col].value_counts())\n",
    "        l.append(col.strip())\n",
    "print(\"Grabbing all german related stuff\")\n",
    "print(len(l))\n",
    "l"
   ]
  },
  {
   "cell_type": "code",
   "execution_count": null,
   "metadata": {},
   "outputs": [],
   "source": []
  },
  {
   "cell_type": "code",
   "execution_count": 8,
   "metadata": {},
   "outputs": [],
   "source": [
    "countries = ['Austria', 'Belgium', 'Bulgaria', 'Switzerland', 'Cyprus', 'Czechia', 'Germany', 'Estonia', 'Finland', 'France', 'United Kingdom', 'Hungary', 'Ireland', 'Italy', 'Netherlands', 'Norway', 'Poland', 'Serbia', 'Slovenia', 'Spain', 'Israel', 'Iceland', 'Lithuania', 'Portugal', 'Russian Federation', 'Sweden']"
   ]
  },
  {
   "cell_type": "code",
   "execution_count": 9,
   "metadata": {},
   "outputs": [],
   "source": [
    "by_country = {}\n",
    "for country in countries:\n",
    "    curr_dict={}\n",
    "    for key, value in cb_9_flat.items():\n",
    "        if ', ' + country in value:\n",
    "            curr_dict[key] = value\n",
    "    by_country[country] = curr_dict"
   ]
  },
  {
   "cell_type": "code",
   "execution_count": 10,
   "metadata": {},
   "outputs": [
    {
     "name": "stdout",
     "output_type": "stream",
     "text": [
      "number of columns specific for country\n",
      "Austria 8\n",
      "Belgium 8\n",
      "Bulgaria 6\n",
      "Switzerland 8\n",
      "Cyprus 8\n",
      "Czechia 6\n",
      "Germany 17\n",
      "Estonia 6\n",
      "Finland 8\n",
      "France 6\n",
      "United Kingdom 19\n",
      "Hungary 8\n",
      "Ireland 8\n",
      "Italy 6\n",
      "Netherlands 8\n",
      "Norway 8\n",
      "Poland 8\n",
      "Serbia 8\n",
      "Slovenia 6\n",
      "Spain 0\n",
      "Israel 0\n",
      "Iceland 0\n",
      "Lithuania 0\n",
      "Portugal 0\n",
      "Russian Federation 0\n",
      "Sweden 0\n"
     ]
    }
   ],
   "source": [
    "print('number of columns specific for country')\n",
    "for key, value in by_country.items():\n",
    "    print(key, len(value))\n",
    "    if len(value) > 0:\n",
    "        for col in value: \n",
    "            df_9_in.drop(col, axis=1, inplace=True)"
   ]
  },
  {
   "cell_type": "code",
   "execution_count": 11,
   "metadata": {},
   "outputs": [
    {
     "name": "stdout",
     "output_type": "stream",
     "text": [
      "Italy             2745\n",
      "Austria           2499\n",
      "Czechia           2398\n",
      "Germany           2358\n",
      "Ireland           2216\n",
      "United Kingdom    2204\n",
      "Bulgaria          2198\n",
      "Serbia            2043\n",
      "France            2010\n",
      "Estonia           1904\n",
      "Belgium           1767\n",
      "Finland           1755\n",
      "Hungary           1698\n",
      "Netherlands       1673\n",
      "Switzerland       1542\n",
      "Poland            1500\n",
      "Norway            1406\n",
      "Slovenia          1318\n",
      "Cyprus             781\n",
      "Name: cntry, dtype: int64\n"
     ]
    }
   ],
   "source": [
    "print(df_9_in['cntry'].value_counts())"
   ]
  },
  {
   "cell_type": "code",
   "execution_count": null,
   "metadata": {},
   "outputs": [],
   "source": []
  },
  {
   "cell_type": "code",
   "execution_count": 12,
   "metadata": {},
   "outputs": [
    {
     "name": "stdout",
     "output_type": "stream",
     "text": [
      "admin.txt\n",
      "climatech.txt\n",
      "country.txt\n",
      "gender.txt\n",
      "media.txt\n",
      "politics.txt\n",
      "sociodemo.txt\n",
      "values.txt\n",
      "weights.txt\n",
      "welfare.txt\n",
      "wellbeing.txt\n"
     ]
    }
   ],
   "source": [
    "df_8=load_pkl_or_SPSS('E:/tmp/ESS/ess8e02_1.sav')\n",
    "cb_8, cb_8_flat = get_codebook('E:/playground/ESS/codebooks/ESS8')"
   ]
  },
  {
   "cell_type": "code",
   "execution_count": 13,
   "metadata": {},
   "outputs": [
    {
     "name": "stdout",
     "output_type": "stream",
     "text": [
      "admdw \t Administration of how democracy works questions\n",
      "evpdemp \t Paid employment or apprenticeship at least 3 months 20 hours weekly\n",
      "pdempyr \t Year first started in paid employment or apprenticeship\n",
      "lvpntyr \t Year first left parents for living separately for 2 months or more\n",
      "evlvptn \t Ever lived with a spouse or partner for 3 months or more\n",
      "lvptnyr \t Year first lived with spouse or partner for 3 months or more\n",
      "evmar \t Are or ever been married\n",
      "bthcld \t Ever given birth to/ fathered a child\n",
      "nbthcld \t Number of children ever given birth to/ fathered\n",
      "fcldbrn \t Year (first) child was born\n",
      "ggchld \t Have any great grandchildren\n",
      "admge \t Administration of split ballot, ask about female or male\n",
      "plnftr \t Plan for future or take each day as it comes\n",
      "iincsrc \t Respondent's main source of income\n",
      "frprtpl \t Political system in country ensures everyone fair chance to participate in politics\n",
      "gvintcz \t Government in country takes into account the interests of all citizens\n",
      "poltran \t Decisions in country politics are transparent\n",
      "ifredu \t Compared other people in country, fair chance achieve level of education I seek\n",
      "ifrjob \t Compared other people in country, fair chance get job I seek\n",
      "evfredu \t Everyone in country fair chance achieve level of education they seek\n",
      "evfrjob \t Everyone in country fair chance get job they seek\n",
      "fvgabc \t Filter variable: ask about pay, pensions, or social benefits\n",
      "infqbst \t Your [pay/pensions/social benefits], which frequency do you know best\n",
      "netifr \t Your net [pay/pensions/social benefits] is unfairly low, fair, or unfairly high\n",
      "occinfr \t Net [pay/pensions/social benefits] of people same occupation as you in country, how fair\n",
      "topinfr \t Top 10% full-time employees in country, earning more than [amount], how fair\n",
      "btminfr \t Bottom 10% full-time employees in country, earning less than [amount], how fair\n",
      "wltdffr \t Differences in wealth in country, how fair\n",
      "recskil \t Influence decision to recruit in country: person's knowledge and skills\n",
      "recexp \t Influence decision to recruit in country: person's on-the-job experience\n",
      "recknow \t Influence decision to recruit in country: person knows someone in organisation\n",
      "recimg \t Influence decision to recruit in country: person has immigrant background\n",
      "recgndr \t Influence decision to recruit in country: person's gender\n",
      "sofrdst \t Society fair when income and wealth is equally distributed\n",
      "sofrwrk \t Society fair when hard-working people earn more than others\n",
      "sofrpr \t Society fair when takes care of poor and in need, regardless of what give back\n",
      "sofrprv \t Society fair when people from families with high social status enjoy privileges\n",
      "ppldsrv \t By and large, people get what they deserve\n",
      "jstprev \t Confident that justice always prevails over injustice\n",
      "pcmpinj \t Convinced that in the long run people compensated for injustices\n"
     ]
    }
   ],
   "source": [
    "def select_columns(df, df_other, cb):\n",
    "    result = []\n",
    "    for col in df.columns:\n",
    "        if col not in df_other.columns and all( not (country in cb[col]) for country in countries) and not \"SPLIT BALLOT\" in cb[col]:\n",
    "            if df[col].isnull().sum() < len(df)/3:\n",
    "                result.append(col)\n",
    "                #print(col,df_8[col].isnull().sum(), \"\\t\",cb_2016_flat[col])\n",
    "    return result\n",
    "\n",
    "nine_not_in_8 = select_columns(df_9_in, df_8, cb_9_flat)\n",
    "in_both = [col for col in df_9_in.columns if col in df_8.columns]\n",
    "for col in nine_not_in_8:\n",
    "    print(col, \"\\t\", cb_9_flat[col])"
   ]
  },
  {
   "cell_type": "code",
   "execution_count": 14,
   "metadata": {},
   "outputs": [
    {
     "name": "stdout",
     "output_type": "stream",
     "text": [
      "mnrgtjb \t Men should have more right to job than women when jobs are scarce\n",
      "gvrfgap \t Government should be generous judging applications for refugee status\n",
      "rfgfrpc \t Most refugee applicants not in real fear of persecution own countries\n",
      "rfgbfml \t Granted refugees should be entitled to bring close family members\n",
      "eneffap \t How likely to buy most energy efficient home appliance\n",
      "rdcenr \t How often do things to reduce energy use\n",
      "cflsenr \t How confident you could use less energy than now\n",
      "elgcoal \t How much electricity in [country] should be generated from coal\n",
      "elgngas \t How much electricity in [country] should be generated from natural gas\n",
      "elghydr \t How much electricity in [country] should be generated from hydroelectric power\n",
      "elgnuc \t How much electricity in [country] should be generated from nuclear power\n",
      "elgsun \t How much electricity in [country] should be generated from solar power\n",
      "elgwind \t How much electricity in [country] should be generated from wind power\n",
      "elgbio \t How much electricity in [country] should be generated from biomass energy\n",
      "wrpwrct \t How worried, power cuts\n",
      "wrenexp \t How worried, energy too expensive for many people\n",
      "wrdpimp \t How worried, [country] too dependent on energy imports\n",
      "wrdpfos \t How worried, [country] too dependent on fossil fuels\n",
      "wrntdis \t How worried, energy supply interrupted by natural disasters or extreme weather\n",
      "wrinspw \t How worried, energy supply interrupted by insufficient power generated\n",
      "wrtcfl \t How worried, energy supply interrupted by technical failures\n",
      "wrtratc \t How worried, energy supply interrupted by terrorist attacks\n",
      "clmchng \t Do you think world's climate is changing\n",
      "clmthgt2 \t How much thought about climate change before today\n",
      "ccnthum \t Climate change caused by natural processes, human activity, or both\n",
      "ccrdprs \t To what extent feel personal responsibility to reduce climate change\n",
      "wrclmch \t How worried about climate change\n",
      "ccgdbd \t Climate change good or bad impact across world\n",
      "lkredcc \t Imagine large numbers of people limit energy use, how likely reduce climate change\n",
      "lklmten \t How likely, large numbers of people limit energy use\n",
      "gvsrdcc \t How likely, governments enough countries take action to reduce climate change\n",
      "ownrdcc \t How likely, limiting own energy use reduce climate change\n",
      "inctxff \t Favour increase taxes on fossil fuels to reduce climate change\n",
      "sbsrnen \t Favour subsidise renewable energy to reduce climate change\n",
      "banhhap \t Favour ban sale of least energy efficient household appliances to reduce climate change\n",
      "dfincac \t Large differences in income acceptable to reward talents and efforts\n",
      "smdfslv \t For fair society, differences in standard of living should be small\n",
      "uemplwk \t Of every 100 working age how many unemployed and looking for work\n",
      "slvpens \t Standard of living of pensioners\n",
      "slvuemp \t Standard of living of unemployed\n",
      "gvslvol \t Standard of living for the old, governments' responsibility\n",
      "gvslvue \t Standard of living for the unemployed, governments' responsibility\n",
      "gvcldcr \t Child care services for working parents, governments' responsibility\n",
      "sbstrec \t Social benefits/services place too great strain on economy\n",
      "sbprvpv \t Social benefits/services prevent widespread poverty\n",
      "sbeqsoc \t Social benefits/services lead to a more equal society\n",
      "sbbsntx \t Social benefits/services cost businesses too much in taxes/charges\n",
      "sblazy \t Social benefits/services make people lazy\n",
      "sblwcoa \t Social benefits/services make people less willing care for one another\n",
      "imsclbn \t When should immigrants obtain rights to social benefits/services\n",
      "uentrjb \t Most unemployed people do not really try to find a job\n",
      "lbenent \t Many with very low incomes get less benefit than legally entitled to\n",
      "bennent \t Many manage to obtain benefits/services not entitled to\n",
      "admub \t Administration of unemployment benefits questions\n",
      "bnlwinc \t Social benefits only for people with lowest incomes\n",
      "eduunmp \t Spend more on education for unemployed at cost of unemployment benefit\n",
      "wrkprbf \t Benefits for parents to combine work and family even if means higher taxes\n",
      "basinc \t Against or In favour of a basic income scheme\n",
      "eusclbf \t Against or In favour of European Union-wide social benefit scheme\n",
      "eudcnbf \t More decisions made by EU: level of benefits in [country] become higher or lower\n",
      "lkuemp \t How likely unemployed and looking for work next 12 months\n",
      "lknemny \t How likely not enough money for household necessities next 12 months\n",
      "icpart1 \t Interviewer code, lives with husband/wife/partner\n",
      "icpart2 \t Interviewer code, lives with husband/wife/partner\n",
      "chldhm \t Children living at home or not\n",
      "icomdng \t Interviewer code, one/more than one doing last 7 days\n",
      "icpdwrk \t Interviewer code, respondent in paid work\n",
      "icpart3 \t Interviewer code, lives with husband/wife/partner\n",
      "pspwght \t Post-stratification weight including design weight\n"
     ]
    }
   ],
   "source": [
    "\n",
    "eight_not_in_9 = select_columns(df_8, df_9_in, cb_8_flat)\n",
    "for col in eight_not_in_9:\n",
    "    print(col, \"\\t\", cb_8_flat[col])"
   ]
  },
  {
   "cell_type": "code",
   "execution_count": 15,
   "metadata": {},
   "outputs": [
    {
     "name": "stdout",
     "output_type": "stream",
     "text": [
      "2018 nicht in 2016:\t 40\n",
      "2016 nicht in 2018:\t 69\n",
      "in both:\t 248\n"
     ]
    }
   ],
   "source": [
    "print('2018 nicht in 2016:\\t', len(nine_not_in_8))\n",
    "print('2016 nicht in 2018:\\t', len(eight_not_in_9))\n",
    "print('in both:\\t', len(in_both))"
   ]
  },
  {
   "cell_type": "code",
   "execution_count": null,
   "metadata": {},
   "outputs": [],
   "source": []
  },
  {
   "cell_type": "code",
   "execution_count": 16,
   "metadata": {},
   "outputs": [
    {
     "name": "stdout",
     "output_type": "stream",
     "text": [
      "\n",
      "<<< politics\n",
      "polintr \t How interested in politics\n",
      "psppsgva \t Political system allows people to have a say in what government does\n",
      "actrolga \t Able to take active role in political group\n",
      "psppipla \t Political system allows people to have influence on politics\n",
      "cptppola \t Confident in own ability to participate in politics\n",
      "trstprl \t Trust in country's parliament\n",
      "trstlgl \t Trust in the legal system\n",
      "trstplc \t Trust in the police\n",
      "trstplt \t Trust in politicians\n",
      "trstprt \t Trust in political parties\n",
      "trstep \t Trust in the European Parliament\n",
      "trstun \t Trust in the United Nations\n",
      "vote \t Voted last national election\n",
      "contplt \t Contacted politician or government official last 12 months\n",
      "wrkprty \t Worked in political party or action group last 12 months\n",
      "wrkorg \t Worked in another organisation or association last 12 months\n",
      "badge \t Worn or displayed campaign badge/sticker last 12 months\n",
      "sgnptit \t Signed petition last 12 months\n",
      "pbldmn \t Taken part in lawful public demonstration last 12 months\n",
      "bctprd \t Boycotted certain products last 12 months\n",
      "pstplonl \t Posted or shared anything about politics online last 12 months\n",
      "clsprty \t Feel closer to a particular party than all other parties\n",
      "lrscale \t Placement on left right scale\n",
      "stflife \t How satisfied with life as a whole\n",
      "stfeco \t How satisfied with present state of economy in country\n",
      "stfgov \t How satisfied with the national government\n",
      "stfdem \t How satisfied with the way democracy works in country\n",
      "stfedu \t State of education in country nowadays\n",
      "stfhlth \t State of health services in country nowadays\n",
      "gincdif \t Government should reduce differences in income levels\n",
      "freehms \t Gays and lesbians free to live life as they wish\n",
      "hmsfmlsh \t Ashamed if close family member gay or lesbian\n",
      "hmsacld \t Gay and lesbian couples right to adopt children\n",
      "euftf \t European Union: European unification go further or gone too far\n",
      "imsmetn \t Allow many/few immigrants of same race/ethnic group as majority\n",
      "imdfetn \t Allow many/few immigrants of different race/ethnic group from majority\n",
      "impcntr \t Allow many/few immigrants from poorer countries outside Europe\n",
      "imbgeco \t Immigration bad or good for country's economy\n",
      "imueclt \t Country's cultural life undermined or enriched by immigrants\n",
      "imwbcnt \t Immigrants make country worse or better place to live\n",
      "\n",
      "<<< media\n",
      "nwspol \t News about politics and current affairs, watching, reading or listening, in minutes\n",
      "netusoft \t Internet use, how often\n",
      "netustm \t Internet use, how much time on typical day, in minutes\n",
      "ppltrst \t Most people can be trusted or you can't be too careful\n",
      "pplfair \t Most people try to take advantage of you, or try to be fair\n",
      "pplhlp \t Most of the time people helpful or mostly looking out for themselves\n"
     ]
    }
   ],
   "source": [
    "for category in ['politics', 'media']:\n",
    "    print()\n",
    "    print(\"<<<\",category)\n",
    "    for col in cb_9[category]:\n",
    "        if col in in_both and df_9_in[col].isna().sum()< len(df_9_in)/3:\n",
    "            print(col, \"\\t\", cb_9_flat[col])"
   ]
  },
  {
   "cell_type": "code",
   "execution_count": 17,
   "metadata": {},
   "outputs": [
    {
     "name": "stdout",
     "output_type": "stream",
     "text": [
      "['admin', 'country', 'gender', 'justfair', 'media', 'politics', 'sociodemo', 'timing', 'values', 'weight', 'wellb']\n",
      "rshpsts \t Relationship with husband/wife/partner currently living with\n",
      "lvgptnea \t Ever lived with a partner, without being married\n",
      "dvrcdeva \t Ever been divorced/had civil union dissolved\n",
      "marsts \t Legal marital status\n",
      "maritalb \t Legal marital status, post coded\n",
      "chldhhe \t Ever had children living in household\n",
      "domicil \t Domicile, respondent's description\n",
      "eisced \t Highest level of education, ESISCED\n",
      "edulvlb \t Highest level of education\n",
      "eduyrs \t Years of full-time education completed\n",
      "pdwrk \t Doing last 7 days: paid work\n",
      "edctn \t Doing last 7 days: education\n",
      "uempla \t Doing last 7 days: unemployed, actively looking for job\n",
      "uempli \t Doing last 7 days: unemployed, not actively looking for job\n",
      "dsbld \t Doing last 7 days: permanently sick or disabled\n",
      "rtrd \t Doing last 7 days: retired\n",
      "cmsrv \t Doing last 7 days: community or military service\n",
      "hswrk \t Doing last 7 days: housework, looking after children, others\n",
      "dngoth \t Doing last 7 days: other\n",
      "dngref \t Doing last 7 days: refusal\n",
      "dngdk \t Doing last 7 days: don't know\n",
      "dngna \t Doing last 7 days: no answer\n",
      "mainact \t Main activity last 7 days\n",
      "mnactic \t Main activity, last 7 days. All respondents. Post coded\n",
      "crpdwk \t Control paid work last 7 days\n",
      "pdjobev \t Ever had a paid job\n",
      "pdjobyr \t Year last in paid job\n",
      "emplrel \t Employment relation\n",
      "emplno \t Number of employees respondent has/had\n",
      "wrkctra \t Employment contract unlimited or limited duration\n",
      "estsz \t Establishment size\n",
      "jbspv \t Responsible for supervising other employees\n",
      "njbspv \t Number of people responsible for in job\n",
      "wkdcorga \t Allowed to decide how daily work is organised\n",
      "iorgact \t Allowed to influence policy decisions about activities of organisation\n",
      "wkhct \t Total contracted hours per week in main job overtime excluded\n",
      "icwhct \t Have a set 'basic' or contracted number of hours\n",
      "wkhtot \t Total hours normally worked per week in main job overtime included\n",
      "nacer2 \t Industry, NACE rev.2\n",
      "tporgwk \t What type of organisation work/worked for\n",
      "isco08 \t Occupation, ISCO08\n",
      "wrkac6m \t Paid work in another country, period more than 6 months last 10 years\n",
      "uemp3m \t Ever unemployed and seeking work for a period more than three months\n",
      "uemp12m \t Any period of unemployment and work seeking lasted 12 months or more\n",
      "uemp5yr \t Any period of unemployment and work seeking within last 5 years\n",
      "mbtru \t Member of trade union or similar organisation\n",
      "hincsrca \t Main source of household income\n",
      "hinctnta \t Household's total net income, all sources\n",
      "hincfel \t Feeling about household's income nowadays\n",
      "iincsrc \t Respondent's main source of income\n",
      "eiscedp \t Partner's highest level of education, ESISCED\n",
      "edulvlpb \t Partner's highest level of education\n",
      "pdwrkp \t Partner doing last 7 days: paid work\n",
      "edctnp \t Partner doing last 7 days: education\n",
      "uemplap \t Partner doing last 7 days: unemployed, actively looking for job\n",
      "uemplip \t Partner doing last 7 days: unemployed, not actively looking for job\n",
      "dsbldp \t Partner doing last 7 days: permanently sick or disabled\n",
      "rtrdp \t Partner doing last 7 days: retired\n",
      "cmsrvp \t Partner doing last 7 days: community or military service\n",
      "hswrkp \t Partner doing last 7 days: housework, looking after children, others\n",
      "dngothp \t Partner doing last 7 days: other\n",
      "dngdkp \t Partner doing last 7 days: don't know\n",
      "dngnapp \t Partner doing last 7 days: not applicable\n",
      "dngrefp \t Partner doing last 7 days: refusal\n",
      "dngnap \t Partner doing last 7 days: no answer\n",
      "mnactp \t Partner's main activity last 7 days\n",
      "crpdwkp \t Partner, control paid work last 7 days\n",
      "isco08p \t Occupation partner, ISCO08\n",
      "emprelp \t Partner's employment relation\n",
      "wkhtotp \t Hours normally worked a week in main job overtime included, partner\n",
      "eiscedf \t Father's highest level of education, ESISCED\n",
      "edulvlfb \t Father's highest level of education\n",
      "emprf14 \t Father's employment status when respondent 14\n",
      "occf14b \t Father's occupation when respondent 14\n",
      "eiscedm \t Mother's highest level of education, ESISCED\n",
      "edulvlmb \t Mother's highest level of education\n",
      "emprm14 \t Mother's employment status when respondent 14\n",
      "occm14b \t Mother's occupation when respondent 14\n",
      "atncrse \t Improve knowledge/skills: course/lecture/conference, last 12 months\n",
      "anctry1 \t First ancestry, European Standard Classification of Cultural and Ethnic Groups\n",
      "anctry2 \t Second ancestry, European Standard Classification of Cultural and Ethnic Groups\n",
      "region \t Region\n",
      "regunit \t Regional unit\n"
     ]
    }
   ],
   "source": [
    "print(list(cb_9.keys()))\n",
    "for col,value in cb_9['sociodemo'].items():\n",
    "    if col in df_9_in.columns:\n",
    "        print(col,\"\\t\", value)"
   ]
  },
  {
   "cell_type": "code",
   "execution_count": null,
   "metadata": {},
   "outputs": [],
   "source": []
  },
  {
   "cell_type": "code",
   "execution_count": 18,
   "metadata": {
    "scrolled": false
   },
   "outputs": [],
   "source": [
    "\n",
    "            #print()"
   ]
  },
  {
   "cell_type": "code",
   "execution_count": 19,
   "metadata": {},
   "outputs": [],
   "source": [
    "pass"
   ]
  },
  {
   "cell_type": "code",
   "execution_count": null,
   "metadata": {},
   "outputs": [],
   "source": []
  },
  {
   "cell_type": "code",
   "execution_count": 20,
   "metadata": {},
   "outputs": [],
   "source": [
    "def add_another_null(df, df_in, name, value, order=None):\n",
    "    tmp_col = df_in[name].copy()\n",
    "    tmp_categories = list(tmp_col.cat.categories.copy())\n",
    "    index = tmp_categories.index(value)\n",
    "    tmp_categories.pop(index)\n",
    "    codes = tmp_col.cat.codes.copy()\n",
    "    codes[codes==index] = -1\n",
    "    codes[codes>=index] -= 1\n",
    "    cat_type = pd.CategoricalDtype(tmp_categories, ordered=False)\n",
    "    #print(cat_type)\n",
    "    #print(codes)\n",
    "    if order is None:\n",
    "        df[name] = pd.Categorical.from_codes(codes=codes, dtype=cat_type)\n",
    "    else:\n",
    "        df[name] = pd.Categorical.from_codes(codes=codes, dtype=cat_type).reorder_categories(order)"
   ]
  },
  {
   "cell_type": "code",
   "execution_count": 21,
   "metadata": {
    "scrolled": false
   },
   "outputs": [
    {
     "name": "stdout",
     "output_type": "stream",
     "text": [
      "skipping yrbrn13\n",
      "skipping yrbrn14\n",
      "skipping yrbrn15\n"
     ]
    }
   ],
   "source": [
    "import pysubgroup as ps\n",
    "from functools import partial\n",
    "def assign_reordered_categories(df,df_in,col,rename):\n",
    "    df[col] = df_in[col].copy()\n",
    "    df[col].cat.reorder_categories(rename)\n",
    "\n",
    "def prepare_columns(df_in, includes, cb=cb_9_flat):\n",
    "    #df = #df_in.copy()\n",
    "    df = pd.DataFrame()\n",
    "    cat_reorder = partial(assign_reordered_categories, df, df_in)\n",
    "    if 'media' in includes:\n",
    "        # media\n",
    "        df['nwspol'] = df_in['nwspol'].astype('float')\n",
    "        cat_reorder('netusoft',[\"Never\", 'Only occasionally', 'A few times a week', 'Most days', 'Every day'])\n",
    "        df['netustm'] = df_in['netustm'].astype('float')\n",
    "        cat_reorder('ppltrst', [\"You can't be too careful\"]+ [str(i) for i in range(1,10)]+['Most people can be trusted'])\n",
    "        cat_reorder('pplfair', [\"Most people try to take advantage of me\"]+ [str(i) for i in range(1,10)]+['Most people try to be fair'])\n",
    "        cat_reorder('pplhlp', [\"People mostly look out for themselves\"]+ [str(i) for i in range(1,10)]+['People mostly try to be helpful'])\n",
    "    \n",
    "    # gender\n",
    "    df['yrbrn'] = df_in['yrbrn'].astype('float')\n",
    "    df['hhmmb'] = df_in['hhmmb'].copy().astype(float)\n",
    "    # gndr is fine\n",
    "    df['agea'] = df_in['agea'].copy().astype(float)\n",
    "       # skipping household members\n",
    "    if 'justfair' in includes:\n",
    "        # justfair\n",
    "        cat_reorder('infqbst', ['Weekly', 'Monthly', 'Annual'])\n",
    "        just_fair_order = ['Not at all', 'Very little', 'Some', 'A lot', 'A great deal']\n",
    "        just_fair_order2= ['Does not apply at all'] + [str(i) for i in range(1,10)] + ['Applies completely']\n",
    "        cat_reorder('frprtpl', just_fair_order)\n",
    "        cat_reorder('gvintcz', just_fair_order)\n",
    "        cat_reorder('poltran', just_fair_order)\n",
    "        cat_reorder('ifrjob',  just_fair_order2)\n",
    "        #cat_reorder('ifredu',  just_fair_order2) # This column has another value\n",
    "        cat_reorder('evfredu', just_fair_order2)\n",
    "        cat_reorder('evfrjob', just_fair_order2)\n",
    "        tmp_order = ['Low, extremely unfair',  'Low, very unfair',  'Low, somewhat unfair', 'Low, slightly unfair', 'Fair', 'High, slightly unfair', 'High, somewhat unfair', 'High, very unfair', 'High, extremely unfair',]\n",
    "        cat_reorder('grspfr', tmp_order)\n",
    "        cat_reorder('netifr', tmp_order)     \n",
    "        cat_reorder('occinfr', tmp_order)\n",
    "        cat_reorder('topinfr', tmp_order)\n",
    "        cat_reorder('btminfr', tmp_order)\n",
    "        tmp_order = ['Not much or no influence', 'Some influence', 'Quite a lot of influence', 'A great deal of influence']\n",
    "        cat_reorder('recskil', tmp_order)\n",
    "        cat_reorder('recexp', tmp_order)\n",
    "        cat_reorder('recknow', tmp_order)\n",
    "        cat_reorder('recimg', tmp_order)\n",
    "        cat_reorder('recgndr', tmp_order)\n",
    "        tmp_order = ['Agree strongly', 'Agree', 'Neither agree nor disagree', 'Disagree', 'Disagree strongly']\n",
    "        cat_reorder('sofrdst',tmp_order)\n",
    "        cat_reorder('sofrwrk',tmp_order)\n",
    "        cat_reorder('sofrpr' ,tmp_order)\n",
    "        cat_reorder('sofrprv',tmp_order)\n",
    "        cat_reorder('ppldsrv',tmp_order)\n",
    "        cat_reorder('jstprev',tmp_order)\n",
    "        cat_reorder('pcmpinj',tmp_order)\n",
    "        cat_reorder('wltdffr' , ['Small, extremely unfair',  'Small, very unfair',  'Small, slightly unfair', 'Small, somewhat unfair',\n",
    "                                 'Fair',\n",
    "                                'Large, slightly unfair', 'Large, somewhat unfair', 'Large, very unfair', 'Large, extremely unfair'])\n",
    "          # remaining ommitted\n",
    "        add_another_null(df, df_in, 'ifredu', 'I have not completed a level of education yet', just_fair_order2)\n",
    "    \n",
    "    # politics\n",
    "    type1 = ['trstprl','trstlgl','trstplc','trstplt','trstprt','trstep','trstun']\n",
    "    type1_order = ['No trust at all'] + [str(i) for i in range(1,10)] + ['Complete trust']\n",
    "    for col in type1:\n",
    "        #print(col)\n",
    "        cat_reorder(col , type1_order)\n",
    "        \n",
    "    type2 = ['stflife', 'stfeco', 'stfgov', 'stfdem']\n",
    "    type2_order = ['Extremely dissatisfied']+ [str(i) for i in range(1,10)] + ['Extremely satisfied']\n",
    "    for col in type2:\n",
    "        cat_reorder(col , type2_order)\n",
    "    \n",
    "    cat_reorder('stfedu', ['Extremely bad']+ [str(i) for i in range(1,10)] + [ 'Extremely good'])\n",
    "    cat_reorder('stfhlth', ['Extremely bad']+ [str(i) for i in range(1,10)] + [ 'Extremely good'])\n",
    "    \n",
    "    \n",
    "    cat_reorder('euftf', ['Unification already gone too far']+ [str(i) for i in range(1,10)] + ['Unification go further'])\n",
    "    cat_reorder('imbgeco', ['Bad for the economy']+ [str(i) for i in range(1,10)] + ['Good for the economy'])\n",
    "    cat_reorder('imueclt', ['Cultural life enriched']+ [str(i) for i in range(1,10)] + ['Cultural life undermined'])\n",
    "    cat_reorder('imwbcnt', ['Better place to live']+ [str(i) for i in range(1,10)] + ['Worse place to live'])\n",
    "    \n",
    "    cat_reorder('lrscale', ['Left']+ [str(i) for i in range(1,10)] + [ 'Right'])\n",
    "    \n",
    "    cat_reorder('polintr', reversed(['Not at all interested', 'Hardly interested', 'Quite interested', 'Very interested']))\n",
    "    cat_reorder('psppsgva', ['Not at all', 'Very little', 'Some', 'A lot', 'A great deal'])\n",
    "    cat_reorder('actrolga', ['Not at all able', 'A little able',  'Quite able', 'Very able', 'Completely able'])\n",
    "    cat_reorder('psppipla', ['Not at all', 'Very little', 'Some', 'A lot', 'A great deal'])\n",
    "    cat_reorder('cptppola' , ['Not at all confident', 'A little confident',  'Quite confident', 'Very confident', 'Completely confident'])\n",
    "    cat_reorder('prtdgcl' , ['Very close', 'Quite close', 'Not close', 'Not at all close'])\n",
    "    tmp_order = ['Agree strongly', 'Agree', 'Neither agree nor disagree', 'Disagree', 'Disagree strongly' ]\n",
    "    cat_reorder('gincdif', tmp_order)\n",
    "    cat_reorder('freehms',  tmp_order)\n",
    "    cat_reorder('hmsfmlsh', tmp_order)\n",
    "    cat_reorder('hmsacld', tmp_order)\n",
    "    tmp_order = ['Allow many to come and live here', 'Allow some', 'Allow a few', 'Allow none']\n",
    "    cat_reorder('imsmetn' , tmp_order)\n",
    "    cat_reorder('imdfetn' , tmp_order)\n",
    "    cat_reorder('impcntr' , tmp_order)\n",
    "    \n",
    "    # sociodemo\n",
    "    tmp_order = ['I have/had no influence']+ [str(i) for i in range(1,10)] + ['I have/had complete control']\n",
    "    cat_reorder('wkdcorga', tmp_order)\n",
    "    cat_reorder('iorgact', tmp_order)\n",
    "    cat_reorder('estsz' , ['Under 10', '10 to 24', '25 to 99', '100 to 499', '500 or more'])\n",
    "    \n",
    "    if 'timing' in includes:\n",
    "        # timing\n",
    "        cat_reorder('plnftr', ['I plan for my future as much as possible']+ [str(i) for i in range(1,10)] + ['I just take each day as it comes']) \n",
    "        add_another_null(df, df_in,'ggchld', 'Not applicable', ['No', 'Yes'])\n",
    "        df['nbthcld'] = df_in['nbthcld'].astype(float)\n",
    "    \n",
    "    \n",
    "    # wellb\n",
    "    cat_reorder('happy', ['Extremely unhappy'] + [str(i) for i in range(1,10)] + ['Extremely happy'])\n",
    "    cat_reorder('atchctr', ['Not at all emotionally attached'] + [str(i) for i in range(1,10)] + ['Very emotionally attached'])\n",
    "    cat_reorder('atcherp', ['Not at all emotionally attached'] + [str(i) for i in range(1,10)] + ['Very emotionally attached'])\n",
    "    cat_reorder('rlgdgr', ['Not at all religious'] + [str(i) for i in range(1,10)] + ['Very religious'])\n",
    "    cat_reorder('sclmeet', ['Never', 'Less than once a month', 'Once a month', 'Several times a month', 'Once a week', 'Several times a week', 'Every day'])\n",
    "    cat_reorder('inprdsc' , ['None', '1', '2', '3', '4-6', '7-9', '10 or more'])\n",
    "    cat_reorder('sclact' , ['Much less than most', 'Less than most','About the same', 'More than most',  'Much more than most'])\n",
    "    cat_reorder('aesfdrk' , ['Very safe', 'Safe', 'Unsafe', 'Very unsafe'])\n",
    "    cat_reorder('health' , ['Very good','Good', 'Fair', 'Bad', 'Very bad'])\n",
    "    relg_order = ['Every day', 'More than once a week', 'Once a week', 'At least once a month', 'Only on special holy days', 'Less often', 'Never']\n",
    "    cat_reorder('rlgatnd', relg_order)\n",
    "    cat_reorder('pray', relg_order)\n",
    "    \n",
    "    \n",
    "    \n",
    "    \n",
    "    # values\n",
    "    like_mes = ['ipcrtiv', 'imprich', 'ipeqopt', 'ipshabt', 'impsafe', 'impdiff', 'ipfrule', 'ipudrst', 'ipmodst', 'ipgdtim',\n",
    "     'impfree', 'iphlppl', 'ipsuces', 'ipstrgv', 'ipadvnt', 'ipbhprp', 'iprspot', 'iplylfr', 'impenv', 'imptrad', 'impfun']\n",
    "    like_me_order = ['Very much like me', 'Like me','Somewhat like me', 'A little like me', 'Not like me', 'Not like me at all']\n",
    "    for col in like_mes:\n",
    "        cat_reorder(col, like_me_order)\n",
    "    \n",
    "    \n",
    "    for col in ['inwmms','inwyys', 'inwmme', 'inwyye', 'yrbrn11', 'yrbrn12','yrbrn13','yrbrn14','yrbrn15']:\n",
    "        if col in df_in.columns:\n",
    "            df[col] = df_in[col].copy().astype(float)\n",
    "        else:\n",
    "            print('skipping '+col)\n",
    "    \n",
    "    special_values = {'lvpntyr':{'Still in parental home, never left 2 months' : 0, 'Never lived with a parent' : np.nan},\n",
    "                      'ageadlt': {'It depends':np.nan}}\n",
    "    has_special_values = ['lvpntyr','ageadlt']\n",
    "    simple_nominal = ['nacer2', 'isco08', 'isco08p', 'anctry1', 'anctry2', 'region', 'cntry', \n",
    "                      'ctzshipd', 'cntbrthd', 'lnghom1','lnghom2', 'fbrncntc', 'mbrncntc', 'vote', 'fvgabc',\n",
    "                     'rshpsts','marsts','maritalb','domicil','mainact','emplrel','iincsrc', #work related\n",
    "                      'tporgwk', 'mbtru', 'hincsrca', 'hincfel', 'emprf14', 'occf14b', 'emprm14', 'occm14b',\n",
    "                     'mnactic', 'mnactp', 'emprelp', 'regunit', 'wrkctra',\n",
    "                     'rlgdnm', 'rlgdnme', 'hlthhmp', 'vteurmmb', 'vteubcmb',\n",
    "                     'ctzshipc', 'cntbrthc', 'fbrncntb', 'mbrncntb']\n",
    "    for col in reversed(df_in.columns):\n",
    "\n",
    "        if col in df.columns or \"SPLIT BALLOT\" in cb[col]:\n",
    "            continue\n",
    "        if col.startswith('edlv') or col.startswith('edulvl'):\n",
    "            continue\n",
    "        if (col in simple_nominal or col.startswith('gndr') or col.startswith('rshipa') or col.startswith('prtvt') or\n",
    "            col.startswith('prtvb') or col.startswith('prtcl') or col.startswith('rlgdn') or col.startswith('rlgde') ):\n",
    "            df[col] = df_in[col].copy()\n",
    "            continue\n",
    "        if col in has_special_values:\n",
    "            continue\n",
    "        if (col.startswith('eduade') or col.startswith('edagegb') or col.startswith('edubil') or col.startswith('eduail') or\n",
    "           col.startswith('edupade') or col.startswith('edagepgb') or col == 'edupbil1' or col=='edufade3' or col=='edagefgb' or\n",
    "            col =='edufbil1' or col == 'edumade3' or col=='edumbil1'):\n",
    "            continue # skipping for now\n",
    "        #print(repr(col), cb[col])\n",
    "            \n",
    "        if col not in ['edulvlb']:\n",
    "            num_values = None\n",
    "            try:\n",
    "                num_values = len(df_in[col].cat.categories)\n",
    "            except AttributeError:\n",
    "                if repr(df_in[col].dtype) in [\"dtype('O')\", \"dtype('float64')\"]:\n",
    "                    df[col] = df_in[col].copy()\n",
    "                    continue\n",
    "            if not num_values is None:\n",
    "                if num_values > 12:\n",
    "                    df[col] = df_in[col].astype(float)\n",
    "                # No yes questions\n",
    "                elif num_values == 2 and all(cat in ['No', 'Yes'] for cat in df_in[col].cat.categories ):\n",
    "                    cat_reorder(col, ['No', 'Yes'])\n",
    "            \n",
    "    return df\n",
    "df_8_prepared = prepare_columns(df_8, list(cb_8.keys()), cb=cb_8_flat)"
   ]
  },
  {
   "cell_type": "code",
   "execution_count": 22,
   "metadata": {},
   "outputs": [],
   "source": [
    "df_9_prepared = prepare_columns(df_9_in, list(cb_9.keys()))"
   ]
  },
  {
   "cell_type": "code",
   "execution_count": 23,
   "metadata": {},
   "outputs": [
    {
     "name": "stdout",
     "output_type": "stream",
     "text": [
      "'grsplet' , ['D - 3rd category', 'F - 9th category', 'G - 5th category', 'J - 10th category', 'K - 1st category', 'L - 7th category', 'N - 4th category', 'Q - 8th category', 'S - 2nd category', 'T - 6th category']\n",
      "'netilet' , ['D - 3rd category', 'F - 9th category', 'G - 5th category', 'J - 10th category', 'K - 1st category', 'L - 7th category', 'N - 4th category', 'Q - 8th category', 'S - 2nd category', 'T - 6th category']\n",
      "'eisced' , ['ES-ISCED I , less than lower secondary', 'ES-ISCED II, lower secondary', 'ES-ISCED IIIa, upper tier upper secondary', 'ES-ISCED IIIb, lower tier upper secondary', 'ES-ISCED IV, advanced vocational, sub-degree', 'ES-ISCED V1, lower tertiary education, BA level', 'ES-ISCED V2, higher tertiary education, >= MA level', 'Other']\n",
      "edulvlb large\n",
      "'edulvlb' , ['General ISCED 2A, access ISCED 3A general/all 3', 'General ISCED 3 >=2 years, no access ISCED 5', 'General ISCED 3A, access upper tier ISCED 5A/all 5', 'General ISCED 3A/3B, access ISCED 5B/lower tier 5A', 'General ISCED 4A, access upper tier ISCED 5A/all 5', 'General ISCED 4A/4B, access ISCED 5B/lower tier 5A', 'General/pre-vocational ISCED 2A/2B, access ISCED 3 vocational', 'ISCED 1, completed primary education', 'ISCED 4 programmes without access ISCED 5', 'ISCED 5A long, master/equivalent from lower tier tertiary', 'ISCED 5A long, master/equivalent from upper/single tier tertiary', 'ISCED 5A medium, bachelor/equivalent from lower tier tertiary', 'ISCED 5A medium, bachelor/equivalent from upper/single tier tertiary', 'ISCED 5A short, intermediate/academic/general tertiary below bachelor', 'ISCED 5B short, advanced vocational qualifications', 'ISCED 6, doctoral degree', 'Not completed ISCED level 1', 'Other', 'Vocational ISCED 2A/2B, access ISCED 3 vocational', 'Vocational ISCED 2C < 2 years, no access ISCED 3', 'Vocational ISCED 3A, access ISCED 5B/ lower tier 5A', 'Vocational ISCED 3A, access upper tier ISCED 5A/all 5', 'Vocational ISCED 3C < 2 years, no access ISCED 5', 'Vocational ISCED 3C >= 2 years, no access ISCED 5', 'Vocational ISCED 4A, access upper tier ISCED 5A/all 5', 'Vocational ISCED 4A/4B, access ISCED 5B/lower tier 5A']\n",
      "'pdwrk' , ['Marked', 'Not marked']\n",
      "'edctn' , ['Marked', 'Not marked']\n",
      "'uempla' , ['Marked', 'Not marked']\n",
      "'uempli' , ['Marked', 'Not marked']\n",
      "'dsbld' , ['Marked', 'Not marked']\n",
      "'rtrd' , ['Marked', 'Not marked']\n",
      "'cmsrv' , ['Marked', 'Not marked']\n",
      "'hswrk' , ['Marked', 'Not marked']\n",
      "'dngoth' , ['Marked', 'Not marked']\n",
      "'dngref' , ['Marked', 'Not marked']\n",
      "'dngdk' , ['Marked', 'Not marked']\n",
      "'dngna' , ['Marked', 'Not marked']\n",
      "'hinctnta' , ['C - 3rd decile', 'D - 9th decile', 'F - 5th decile', 'H - 10th decile', 'J - 1st decile', 'K - 7th decile', 'M - 4th decile', 'P - 8th decile', 'R - 2nd decile', 'S - 6th decile']\n",
      "'eiscedp' , ['ES-ISCED I , less than lower secondary', 'ES-ISCED II, lower secondary', 'ES-ISCED IIIa, upper tier upper secondary', 'ES-ISCED IIIb, lower tier upper secondary', 'ES-ISCED IV, advanced vocational, sub-degree', 'ES-ISCED V1, lower tertiary education, BA level', 'ES-ISCED V2, higher tertiary education, >= MA level', 'Other']\n",
      "edulvlpb large\n",
      "'edulvlpb' , ['General ISCED 2A, access ISCED 3A general/all 3', 'General ISCED 3 >=2 years, no access ISCED 5', 'General ISCED 3A, access upper tier ISCED 5A/all 5', 'General ISCED 3A/3B, access ISCED 5B/lower tier 5A', 'General ISCED 4A, access upper tier ISCED 5A/all 5', 'General ISCED 4A/4B, access ISCED 5B/lower tier 5A', 'General/pre-vocational ISCED 2A/2B, access ISCED 3 vocational', 'ISCED 1, completed primary education', 'ISCED 4 programmes without access ISCED 5', 'ISCED 5A long, master/equivalent from lower tier tertiary', 'ISCED 5A long, master/equivalent from upper/single tier tertiary', 'ISCED 5A medium, bachelor/equivalent from lower tier tertiary', 'ISCED 5A medium, bachelor/equivalent from upper/single tier tertiary', 'ISCED 5A short, intermediate/academic/general tertiary below bachelor', 'ISCED 5B short, advanced vocational qualifications', 'ISCED 6, doctoral degree', 'Not completed ISCED level 1', 'Other', 'Vocational ISCED 2A/2B, access ISCED 3 vocational', 'Vocational ISCED 2C < 2 years, no access ISCED 3', 'Vocational ISCED 3A, access ISCED 5B/ lower tier 5A', 'Vocational ISCED 3A, access upper tier ISCED 5A/all 5', 'Vocational ISCED 3C < 2 years, no access ISCED 5', 'Vocational ISCED 3C >= 2 years, no access ISCED 5', 'Vocational ISCED 4A, access upper tier ISCED 5A/all 5', 'Vocational ISCED 4A/4B, access ISCED 5B/lower tier 5A']\n",
      "'pdwrkp' , ['Marked', 'Not marked']\n",
      "'edctnp' , ['Marked', 'Not marked']\n",
      "'uemplap' , ['Marked', 'Not marked']\n",
      "'uemplip' , ['Marked', 'Not marked']\n",
      "'dsbldp' , ['Marked', 'Not marked']\n",
      "'rtrdp' , ['Marked', 'Not marked']\n",
      "'cmsrvp' , ['Marked', 'Not marked']\n",
      "'hswrkp' , ['Marked', 'Not marked']\n",
      "'dngothp' , ['Marked', 'Not marked']\n",
      "'dngdkp' , ['Marked', 'Not marked']\n",
      "'dngnapp' , ['Marked', 'Not marked']\n",
      "'dngrefp' , ['Marked', 'Not marked']\n",
      "'dngnap' , ['Marked', 'Not marked']\n",
      "'eiscedf' , ['ES-ISCED I , less than lower secondary', 'ES-ISCED II, lower secondary', 'ES-ISCED IIIa, upper tier upper secondary', 'ES-ISCED IIIb, lower tier upper secondary', 'ES-ISCED IV, advanced vocational, sub-degree', 'ES-ISCED V1, lower tertiary education, BA level', 'ES-ISCED V2, higher tertiary education, >= MA level', 'Other']\n",
      "edulvlfb large\n",
      "'edulvlfb' , ['General ISCED 2A, access ISCED 3A general/all 3', 'General ISCED 3 >=2 years, no access ISCED 5', 'General ISCED 3A, access upper tier ISCED 5A/all 5', 'General ISCED 3A/3B, access ISCED 5B/lower tier 5A', 'General ISCED 4A, access upper tier ISCED 5A/all 5', 'General ISCED 4A/4B, access ISCED 5B/lower tier 5A', 'General/pre-vocational ISCED 2A/2B, access ISCED 3 vocational', 'ISCED 1, completed primary education', 'ISCED 4 programmes without access ISCED 5', 'ISCED 5A long, master/equivalent from lower tier tertiary', 'ISCED 5A long, master/equivalent from upper/single tier tertiary', 'ISCED 5A medium, bachelor/equivalent from lower tier tertiary', 'ISCED 5A medium, bachelor/equivalent from upper/single tier tertiary', 'ISCED 5A short, intermediate/academic/general tertiary below bachelor', 'ISCED 5B short, advanced vocational qualifications', 'ISCED 6, doctoral degree', 'Not completed ISCED level 1', 'Other', 'Vocational ISCED 2A/2B, access ISCED 3 vocational', 'Vocational ISCED 2C < 2 years, no access ISCED 3', 'Vocational ISCED 3A, access ISCED 5B/ lower tier 5A', 'Vocational ISCED 3A, access upper tier ISCED 5A/all 5', 'Vocational ISCED 3C < 2 years, no access ISCED 5', 'Vocational ISCED 3C >= 2 years, no access ISCED 5', 'Vocational ISCED 4A, access upper tier ISCED 5A/all 5', 'Vocational ISCED 4A/4B, access ISCED 5B/lower tier 5A']\n",
      "'eiscedm' , ['ES-ISCED I , less than lower secondary', 'ES-ISCED II, lower secondary', 'ES-ISCED IIIa, upper tier upper secondary', 'ES-ISCED IIIb, lower tier upper secondary', 'ES-ISCED IV, advanced vocational, sub-degree', 'ES-ISCED V1, lower tertiary education, BA level', 'ES-ISCED V2, higher tertiary education, >= MA level', 'Other']\n",
      "edulvlmb large\n",
      "'edulvlmb' , ['General ISCED 2A, access ISCED 3A general/all 3', 'General ISCED 3 >=2 years, no access ISCED 5', 'General ISCED 3A, access upper tier ISCED 5A/all 5', 'General ISCED 3A/3B, access ISCED 5B/lower tier 5A', 'General ISCED 4A, access upper tier ISCED 5A/all 5', 'General ISCED 4A/4B, access ISCED 5B/lower tier 5A', 'General/pre-vocational ISCED 2A/2B, access ISCED 3 vocational', 'ISCED 1, completed primary education', 'ISCED 4 programmes without access ISCED 5', 'ISCED 5A long, master/equivalent from lower tier tertiary', 'ISCED 5A long, master/equivalent from upper/single tier tertiary', 'ISCED 5A medium, bachelor/equivalent from lower tier tertiary', 'ISCED 5A medium, bachelor/equivalent from upper/single tier tertiary', 'ISCED 5A short, intermediate/academic/general tertiary below bachelor', 'ISCED 5B short, advanced vocational qualifications', 'ISCED 6, doctoral degree', 'Not completed ISCED level 1', 'Other', 'Vocational ISCED 2A/2B, access ISCED 3 vocational', 'Vocational ISCED 2C < 2 years, no access ISCED 3', 'Vocational ISCED 3A, access ISCED 5B/ lower tier 5A', 'Vocational ISCED 3A, access upper tier ISCED 5A/all 5', 'Vocational ISCED 3C < 2 years, no access ISCED 5', 'Vocational ISCED 3C >= 2 years, no access ISCED 5', 'Vocational ISCED 4A, access upper tier ISCED 5A/all 5', 'Vocational ISCED 4A/4B, access ISCED 5B/lower tier 5A']\n",
      "lvpntyr large\n",
      "'lvpntyr' , ['Never lived with a parent', 'Still in parental home, never left 2 months']\n",
      "'admge' , ['Group 1', 'Group 2']\n",
      "ageadlt large\n",
      "'ageadlt' , ['It depends']\n",
      "agemage large\n",
      "'agemage' , ['It depends']\n",
      "ageoage large\n",
      "'ageoage' , ['It depends']\n",
      "iaglptn large\n",
      "'iaglptn' , ['No ideal age', 'Should never live with partner not married to']\n",
      "iagmr large\n",
      "'iagmr' , ['No ideal age', 'Should never get married']\n",
      "iagpnt large\n",
      "'iagpnt' , ['No ideal age']\n",
      "iagrtr large\n",
      "'iagrtr' , ['No ideal age', 'Should never be in paid work', 'Should never retire permanently']\n",
      "tygledu large\n",
      "'tygledu' , ['Never too young']\n",
      "tyglvp large\n",
      "'tyglvp' , ['Never too young', 'Should never live with partner not married to']\n",
      "tygmr large\n",
      "'tygmr' , ['Never too young', 'Should never get married']\n",
      "tygpnt large\n",
      "'tygpnt' , ['Never too young']\n",
      "tygrtr large\n",
      "'tygrtr' , ['Never too young', 'Should never be in paid work', 'Should never retire permanently']\n",
      "tolvpnt large\n",
      "'tolvpnt' , ['Never too old']\n",
      "tochld large\n",
      "'tochld' , ['Never too old']\n",
      "towkht large\n",
      "'towkht' , ['Never too old', 'Should never work']\n",
      "'anvcld' , ['Approve', 'Disapprove', 'Neither approve nor disapprove', 'Strongly approve', 'Strongly disapprove']\n",
      "'alvgptn' , ['Approve', 'Disapprove', 'Neither approve nor disapprove', 'Strongly approve', 'Strongly disapprove']\n",
      "'acldnmr' , ['Approve', 'Disapprove', 'Neither approve nor disapprove', 'Strongly approve', 'Strongly disapprove']\n",
      "'aftjbyc' , ['Approve', 'Disapprove', 'Neither approve nor disapprove', 'Strongly approve', 'Strongly disapprove']\n",
      "'advcyc' , ['Approve', 'Disapprove', 'Neither approve nor disapprove', 'Strongly approve', 'Strongly disapprove']\n",
      "'dscrrce' , ['Marked', 'Not marked']\n",
      "'dscrntn' , ['Marked', 'Not marked']\n",
      "'dscrrlg' , ['Marked', 'Not marked']\n",
      "'dscrlng' , ['Marked', 'Not marked']\n",
      "'dscretn' , ['Marked', 'Not marked']\n",
      "'dscrage' , ['Marked', 'Not marked']\n",
      "'dscrgnd' , ['Marked', 'Not marked']\n",
      "'dscrsex' , ['Marked', 'Not marked']\n",
      "'dscrdsb' , ['Marked', 'Not marked']\n",
      "'dscroth' , ['Marked', 'Not marked']\n",
      "'dscrdk' , ['Marked', 'Not marked']\n",
      "'dscrref' , ['Marked', 'Not marked']\n",
      "'dscrnap' , ['Marked', 'Not marked']\n",
      "'dscrna' , ['Marked', 'Not marked']\n",
      "'admdw' , ['Group 1', 'Group 2', 'Group 3']\n",
      "73\n"
     ]
    }
   ],
   "source": [
    "# print columns that are not yet handled correctly\n",
    "i=0\n",
    "for key in cb_9.keys():\n",
    "\n",
    "    for col in cb_9[key]:\n",
    "        if col in df_9_in.columns:\n",
    "            if col not in df_9_prepared.columns:\n",
    "                num_fails = 0\n",
    "                vals = []\n",
    "                #print(repr(df_9_in[col].dtype))\n",
    "                if repr(df_9_in[col].dtype) in [\"dtype('O')\", \"dtype('float64')\"]:\n",
    "                    print(col, 'object')\n",
    "                    continue\n",
    "                for val in df_9_in[col].cat.categories:\n",
    "                    try:\n",
    "                        tmp = int(val)\n",
    "                    except ValueError:\n",
    "                        vals.append(val)\n",
    "                        num_fails+=1\n",
    "                num_categories = len(df_9_in[col].cat.categories)\n",
    "\n",
    "                if num_categories >12:\n",
    "                    print(col, 'large')\n",
    "                elif num_fails==2 and num_categories>4 :\n",
    "                    print(col, vals)\n",
    "                print(repr(col),',', vals)\n",
    "                i+=1\n",
    "print(i)"
   ]
  },
  {
   "cell_type": "code",
   "execution_count": 24,
   "metadata": {},
   "outputs": [],
   "source": [
    "df_9 = df_9_prepared"
   ]
  },
  {
   "cell_type": "code",
   "execution_count": null,
   "metadata": {},
   "outputs": [],
   "source": []
  },
  {
   "cell_type": "code",
   "execution_count": 25,
   "metadata": {},
   "outputs": [],
   "source": [
    "def create_selectors(df):\n",
    "    ps.create_numeric_selector_for_attribute(df, 'nwspol'+'_codes')\n",
    "    ps.create_nominal_selectors_for_attribute(df, 'netusoft'+'_codes')\n",
    "    ps.create_numeric_selector_for_attribute(df, 'netustm'+'_codes')\n",
    "    ps.create_numeric_selector_for_attribute(df, 'ppltrst'+'_codes')\n",
    "    ps.create_numeric_selector_for_attribute(df, 'pplfair'+'_codes')\n",
    "    ps.create_numeric_selector_for_attribute(df, 'pplhlp'+'_codes')\n",
    "    \n",
    "    ps.create_nominal_selectors_for_attribute(df, 'netusoft')"
   ]
  },
  {
   "cell_type": "code",
   "execution_count": 26,
   "metadata": {},
   "outputs": [
    {
     "data": {
      "text/plain": [
       "{'nwspol': 'News about politics and current affairs, watching, reading or listening, in minutes',\n",
       " 'netusoft': 'Internet use, how often',\n",
       " 'netustm': 'Internet use, how much time on typical day, in minutes',\n",
       " 'ppltrst': \"Most people can be trusted or you can't be too careful\",\n",
       " 'pplfair': 'Most people try to take advantage of you, or try to be fair',\n",
       " 'pplhlp': 'Most of the time people helpful or mostly looking out for themselves'}"
      ]
     },
     "execution_count": 26,
     "metadata": {},
     "output_type": "execute_result"
    }
   ],
   "source": [
    "cb_9['media']"
   ]
  },
  {
   "cell_type": "code",
   "execution_count": null,
   "metadata": {},
   "outputs": [],
   "source": []
  },
  {
   "cell_type": "code",
   "execution_count": null,
   "metadata": {},
   "outputs": [],
   "source": []
  },
  {
   "cell_type": "code",
   "execution_count": 27,
   "metadata": {},
   "outputs": [
    {
     "data": {
      "text/plain": [
       "109"
      ]
     },
     "execution_count": 27,
     "metadata": {},
     "output_type": "execute_result"
    }
   ],
   "source": [
    "df_9['ppltrst'].isna().sum()"
   ]
  },
  {
   "cell_type": "code",
   "execution_count": 28,
   "metadata": {},
   "outputs": [],
   "source": [
    "import RDMM"
   ]
  },
  {
   "cell_type": "code",
   "execution_count": 29,
   "metadata": {},
   "outputs": [],
   "source": [
    "import RDMM.correlation_quality_functions as correlations\n",
    "import RDMM.generic_quality_measures as generics\n",
    "import numpy as np\n",
    "na_sel = np.any([df_9[col].isnull() for col in cb_9['media'].keys()],axis=0)\n",
    "np.count_nonzero(na_sel)\n",
    "len(df_9)\n",
    "corr_m = correlations.CorrelationModel([col for col in cb_9['media'].keys()])"
   ]
  },
  {
   "cell_type": "code",
   "execution_count": 30,
   "metadata": {},
   "outputs": [
    {
     "name": "stdout",
     "output_type": "stream",
     "text": [
      "using codes for netusoft\n",
      "using codes for ppltrst\n",
      "using codes for pplfair\n",
      "using codes for pplhlp\n"
     ]
    }
   ],
   "source": [
    "from collections import namedtuple\n",
    "task_dummy = namedtuple('task_dummy', ['data'])\n",
    "\n",
    "corr_m.calculate_constant_statistics(task_dummy(df_9[np.logical_not(na_sel)]))"
   ]
  },
  {
   "cell_type": "code",
   "execution_count": 31,
   "metadata": {},
   "outputs": [
    {
     "data": {
      "text/plain": [
       "correlation_model_tpl(size_sg=24740, correlation_matrix=array([[ 1.        ,  0.02705461,  0.04303077, -0.0039903 , -0.01128369,\n",
       "        -0.00671321],\n",
       "       [ 0.02705461,  1.        , -0.19260533, -0.01381412, -0.03867004,\n",
       "        -0.0050815 ],\n",
       "       [ 0.04303077, -0.19260533,  1.        ,  0.00384342, -0.0033343 ,\n",
       "        -0.02172393],\n",
       "       [-0.0039903 , -0.01381412,  0.00384342,  1.        ,  0.45952663,\n",
       "         0.38701078],\n",
       "       [-0.01128369, -0.03867004, -0.0033343 ,  0.45952663,  1.        ,\n",
       "         0.44139509],\n",
       "       [-0.00671321, -0.0050815 , -0.02172393,  0.38701078,  0.44139509,\n",
       "         1.        ]]))"
      ]
     },
     "execution_count": 31,
     "metadata": {},
     "output_type": "execute_result"
    }
   ],
   "source": [
    "corr_m.fit(slice(None))"
   ]
  },
  {
   "cell_type": "code",
   "execution_count": 32,
   "metadata": {},
   "outputs": [
    {
     "data": {
      "text/plain": [
       "[('nwspol',\n",
       "  'News about politics and current affairs, watching, reading or listening, in minutes'),\n",
       " ('netusoft', 'Internet use, how often'),\n",
       " ('netustm', 'Internet use, how much time on typical day, in minutes'),\n",
       " ('ppltrst', \"Most people can be trusted or you can't be too careful\"),\n",
       " ('pplfair', 'Most people try to take advantage of you, or try to be fair'),\n",
       " ('pplhlp',\n",
       "  'Most of the time people helpful or mostly looking out for themselves')]"
      ]
     },
     "execution_count": 32,
     "metadata": {},
     "output_type": "execute_result"
    }
   ],
   "source": [
    "[col for col in cb_9['media'].items()]"
   ]
  },
  {
   "cell_type": "code",
   "execution_count": 33,
   "metadata": {},
   "outputs": [],
   "source": [
    "from RDMM.generic_quality_measures import *\n",
    "from itertools import chain\n",
    "\n",
    "model_cols = [col for col in cb_9['media'].keys()]\n"
   ]
  },
  {
   "cell_type": "code",
   "execution_count": 34,
   "metadata": {},
   "outputs": [],
   "source": [
    "def create_searchspace(df):\n",
    "    columns = ['hhmmb', 'gndr', 'polintr', 'psppsgva', 'actrolga', 'psppipla', 'cptppola', 'trstlgl', 'trstplc',\n",
    "               'trstplt', 'trstep', 'trstun', 'trstprt', 'trstprl', 'vote']\n",
    "    search_space_nominal = list(chain.from_iterable([ps.create_nominal_selectors_for_attribute(df, col) for col in columns]))\n",
    "    numeric_columns = ['yrbrn']\n",
    "    search_space_numeric = list(chain.from_iterable([ps.create_numeric_selector_for_attribute(df, col) for col in numeric_columns]))\n",
    "    return search_space_nominal + search_space_numeric"
   ]
  },
  {
   "cell_type": "code",
   "execution_count": 35,
   "metadata": {},
   "outputs": [],
   "source": [
    "\n",
    "corr_m = correlations.CorrelationModel(model_cols)\n",
    "qf = ps.GeneralizationAwareQF(Ex_Distance(corr_m, correlations.Correlation_L_Distance(1), invert=False))\n",
    "df_no_na= df_9[np.logical_not(na_sel)]"
   ]
  },
  {
   "cell_type": "code",
   "execution_count": 36,
   "metadata": {},
   "outputs": [],
   "source": [
    "search_space = create_searchspace(df_no_na)\n",
    "\n",
    "\n",
    "task = ps.SubgroupDiscoveryTask(df_no_na, ps.FITarget(), search_space,qf, depth=2, constraints=[ps.MinSupportConstraint(200)])\n",
    "doEMM=False\n",
    "if doEMM:\n",
    "    result = ps.SimpleSearch(show_progress=True).execute(task)"
   ]
  },
  {
   "cell_type": "code",
   "execution_count": 37,
   "metadata": {},
   "outputs": [
    {
     "data": {
      "text/plain": [
       "Index(['nwspol', 'netusoft', 'netustm', 'ppltrst', 'pplfair', 'pplhlp',\n",
       "       'yrbrn', 'hhmmb', 'agea', 'infqbst',\n",
       "       ...\n",
       "       'wrkorg', 'wrkprty', 'contplt', 'vote', 'cntry', 'idno', 'proddate',\n",
       "       'edition', 'essround', 'name'],\n",
       "      dtype='object', length=259)"
      ]
     },
     "execution_count": 37,
     "metadata": {},
     "output_type": "execute_result"
    }
   ],
   "source": [
    "df_no_na.columns"
   ]
  },
  {
   "cell_type": "code",
   "execution_count": 38,
   "metadata": {},
   "outputs": [],
   "source": [
    "#print(list(cb_8.keys()))\n",
    "#cb_8['climatech']"
   ]
  },
  {
   "cell_type": "code",
   "execution_count": 39,
   "metadata": {},
   "outputs": [],
   "source": [
    "if doEMM:\n",
    "    df_result=result.to_dataframe(include_info=True)\n",
    "    df_result"
   ]
  },
  {
   "cell_type": "code",
   "execution_count": 40,
   "metadata": {},
   "outputs": [
    {
     "name": "stdout",
     "output_type": "stream",
     "text": [
      "Trust in the legal system\n",
      "Trust in the United Nations\n"
     ]
    }
   ],
   "source": [
    "print(cb_9_flat['trstlgl'])\n",
    "print(cb_9_flat['trstun'])"
   ]
  },
  {
   "cell_type": "code",
   "execution_count": 41,
   "metadata": {},
   "outputs": [],
   "source": [
    "import matplotlib.pyplot as plt\n",
    "if doEMM:\n",
    "    arr=result.supportSetVisualization()\n",
    "    plt.matshow(arr)"
   ]
  },
  {
   "cell_type": "code",
   "execution_count": 42,
   "metadata": {
    "scrolled": true
   },
   "outputs": [],
   "source": [
    "if doEMM:\n",
    "    fit_0=corr_m.fit(slice(None), df_no_na).correlation_matrix\n",
    "    plt.matshow(fit_0-np.diag( [1,1,1,1,1,1]),cmap='coolwarm',vmin=-0.5, vmax=0.5,)\n",
    "    print(model_cols)\n",
    "    for i in range(10):\n",
    "        arr = corr_m.fit(df_result['description'][i], df_no_na).correlation_matrix-fit_0\n",
    "        #print(np.min(arr))\n",
    "        #print(np.sum(np.abs(arr)))\n",
    "        #print(np.linalg.norm(arr.flatten(),ord=1))\n",
    "        plt.matshow(arr, vmin=-0.25, vmax=0.25, cmap='coolwarm')\n",
    "        plt.show()"
   ]
  },
  {
   "cell_type": "code",
   "execution_count": 43,
   "metadata": {},
   "outputs": [
    {
     "name": "stdout",
     "output_type": "stream",
     "text": [
      "ppltrst Most people can be trusted or you can't be too careful\n",
      "trstprl Trust in country's parliament\n",
      "trstlgl Trust in the legal system\n",
      "trstplc Trust in the police\n",
      "trstplt Trust in politicians\n",
      "trstprt Trust in political parties\n",
      "trstep Trust in the European Parliament\n",
      "trstun Trust in the United Nations\n"
     ]
    }
   ],
   "source": [
    "for key,value in cb_9_flat.items():\n",
    "    if 'trst' in key:\n",
    "        print(key, value)"
   ]
  },
  {
   "cell_type": "code",
   "execution_count": 44,
   "metadata": {},
   "outputs": [],
   "source": [
    "pass"
   ]
  },
  {
   "cell_type": "code",
   "execution_count": null,
   "metadata": {},
   "outputs": [],
   "source": []
  },
  {
   "cell_type": "code",
   "execution_count": 45,
   "metadata": {},
   "outputs": [],
   "source": [
    "def create_9_selectors(df,ignore=[]):\n",
    "    return ps.create_selectors(df, ignore=ignore)\n",
    "\n",
    "def create_8_selectors(df,ignore=[]):\n",
    "    return ps.create_selectors(df, ignore=ignore)\n",
    "\n",
    "def get_null_vec(df, name):\n",
    "    column = df[name]\n",
    "    if column.dtype.name=='float64':\n",
    "        return np.isnan(column.to_numpy())\n",
    "    elif column.dtype.name=='category':\n",
    "        return column.cat.codes < 0\n",
    "    else:\n",
    "        raise ValueError(f\"Unsupported dtype for column {name}: {column.dtype.name}\")\n",
    "\n",
    "def discard_null(searchspace):\n",
    "    if True:\n",
    "        return [x for x in searchspace if not 'isnull()' in repr(x)]\n",
    "    else:\n",
    "        return searchspace\n",
    "def run_single_task(df_8_in, df_9_in, Qf_L, Qf_R, sim_fun, total_fun, parameters, model_columns):\n",
    "    \n",
    "    na_9 = np.any([get_null_vec(df_9_in, col) for col in model_columns], axis=0)\n",
    "    na_8 = np.any([get_null_vec(df_8_in, col) for col in model_columns], axis=0)\n",
    "\n",
    "    df_9 = df_9_in[np.logical_not(na_9)]\n",
    "    df_8 = df_8_in[np.logical_not(na_8)]\n",
    "    \n",
    "    print(f\"dropping {np.count_nonzero(na_8)} instances for first : {len(df_8)} remainung\")\n",
    "    print(f\"dropping {np.count_nonzero(na_9)} instances for second: {len(df_9)} remainung\")\n",
    "    \n",
    "    sels_8=discard_null(create_8_selectors(df_8, ignore=model_columns))\n",
    "    print(len(sels_8))\n",
    "    sels_9=discard_null(create_9_selectors(df_9, ignore=model_columns))\n",
    "    print(len(sels_9))\n",
    "    \n",
    "    task_L = ps.SubgroupDiscoveryTask(df_8, None, sels_8, Qf_L, result_set_size = parameters.result_size, depth=2, constraints=parameters.constraints)\n",
    "    task_L.algorithm = ps.SimpleSearch(show_progress=True) #ps.DFS(ps.BitSetRepresentation)#parameters.result_size)\n",
    "    task_R = ps.SubgroupDiscoveryTask(df_9, None, sels_9, Qf_R, result_set_size = parameters.result_size, depth=2, constraints=parameters.constraints)\n",
    "    task_R.algorithm = ps.SimpleSearch(show_progress=True) #ps.DFS(ps.BitSetRepresentation)#(parameters.result_size)\n",
    "    similarity_function = sim_fun\n",
    "    run=beam_search_through_candidates(task_L, task_R, parameters.total_result_size, None, similarity_function, total_fun, show_progress=True)\n",
    "\n",
    "    tpl_L=next(run)\n",
    "    tpl_R=next(run)\n",
    "    result=next(run)\n",
    "    return result, df_8, df_9"
   ]
  },
  {
   "cell_type": "code",
   "execution_count": 46,
   "metadata": {
    "scrolled": true
   },
   "outputs": [
    {
     "name": "stdout",
     "output_type": "stream",
     "text": [
      "dropping 5604 instances for first : 38783 remainung\n",
      "dropping 4527 instances for second: 31488 remainung\n",
      "413\n",
      "215"
     ]
    },
    {
     "name": "stderr",
     "output_type": "stream",
     "text": [
      "  0%|                                      | 77/85491 [00:00<01:52, 756.92it/s]"
     ]
    },
    {
     "name": "stdout",
     "output_type": "stream",
     "text": [
      "\n",
      "using codes for ppltrst\n",
      "using codes for trstprl\n",
      "using codes for trstlgl\n",
      "using codes for trstplc\n",
      "using codes for trstplt\n",
      "using codes for trstprt\n",
      "using codes for trstep\n",
      "using codes for trstun\n",
      "using codes for ppltrst\n",
      "using codes for trstprl\n",
      "using codes for trstlgl\n",
      "using codes for trstplc\n",
      "using codes for trstplt\n",
      "using codes for trstprt\n",
      "using codes for trstep\n",
      "using codes for trstun\n",
      "using codes for ppltrst\n",
      "using codes for trstprl\n",
      "using codes for trstlgl\n",
      "using codes for trstplc\n",
      "using codes for trstplt\n",
      "using codes for trstprt\n",
      "using codes for trstep\n",
      "using codes for trstun\n"
     ]
    },
    {
     "name": "stderr",
     "output_type": "stream",
     "text": [
      "  0%|▏                                    | 380/85491 [00:00<01:55, 737.56it/s]e:\\Playground\\ESS\\env\\lib\\site-packages\\numpy\\lib\\function_base.py:393: RuntimeWarning: Mean of empty slice.\n",
      "  avg = a.mean(axis)\n",
      "e:\\Playground\\ESS\\env\\lib\\site-packages\\numpy\\core\\_methods.py:154: RuntimeWarning: invalid value encountered in true_divide\n",
      "  ret, rcount, out=ret, casting='unsafe', subok=False)\n",
      "e:\\Playground\\ESS\\env\\lib\\site-packages\\numpy\\lib\\function_base.py:2526: RuntimeWarning: Degrees of freedom <= 0 for slice\n",
      "  c = cov(x, y, rowvar)\n",
      "e:\\Playground\\ESS\\env\\lib\\site-packages\\numpy\\lib\\function_base.py:2455: RuntimeWarning: divide by zero encountered in true_divide\n",
      "  c *= np.true_divide(1, fact)\n",
      "e:\\Playground\\ESS\\env\\lib\\site-packages\\numpy\\lib\\function_base.py:2455: RuntimeWarning: invalid value encountered in multiply\n",
      "  c *= np.true_divide(1, fact)\n",
      " 13%|████▌                              | 11048/85491 [00:18<01:54, 647.33it/s]e:\\Playground\\ESS\\env\\lib\\site-packages\\numpy\\lib\\function_base.py:2534: RuntimeWarning: invalid value encountered in true_divide\n",
      "  c /= stddev[:, None]\n",
      "e:\\Playground\\ESS\\env\\lib\\site-packages\\numpy\\lib\\function_base.py:2535: RuntimeWarning: invalid value encountered in true_divide\n",
      "  c /= stddev[None, :]\n",
      "100%|███████████████████████████████████| 85491/85491 [02:25<00:00, 585.80it/s]\n",
      "  0%|▏                                     | 93/23220 [00:00<00:25, 905.31it/s]"
     ]
    },
    {
     "name": "stdout",
     "output_type": "stream",
     "text": [
      "using codes for ppltrst\n",
      "using codes for trstprl\n",
      "using codes for trstlgl\n",
      "using codes for trstplc\n",
      "using codes for trstplt\n",
      "using codes for trstprt\n",
      "using codes for trstep\n",
      "using codes for trstun\n"
     ]
    },
    {
     "name": "stderr",
     "output_type": "stream",
     "text": [
      "  1%|▎                                    | 185/23220 [00:00<00:25, 907.63it/s]e:\\sgd\\pysubgroup-project\\pysubgroup\\subgroup.py:147: RuntimeWarning: invalid value encountered in greater_equal\n",
      "  return np.logical_and(val >= self.lower_bound, val < self.upper_bound)\n",
      "e:\\sgd\\pysubgroup-project\\pysubgroup\\subgroup.py:147: RuntimeWarning: invalid value encountered in less\n",
      "  return np.logical_and(val >= self.lower_bound, val < self.upper_bound)\n",
      "100%|███████████████████████████████████| 23220/23220 [00:31<00:00, 740.11it/s]\n",
      "100%|███████████████████████████████| 250000/250000 [00:03<00:00, 69454.86it/s]\n"
     ]
    }
   ],
   "source": [
    "from collections import namedtuple\n",
    "from RDMM.model_algorithm import beam_search_through_candidates, to_dataframe\n",
    "trust_columns = ['ppltrst', 'trstprl', 'trstlgl', 'trstplc', 'trstplt', 'trstprt', 'trstep', 'trstun']\n",
    "nine_not_in_8_narrowed = [x for x in nine_not_in_8 if x not in ['admdw', 'admge', 'lvpntyr']]\n",
    "df_8_in = df_8[trust_columns+eight_not_in_9]\n",
    "df_9_in = df_9_prepared[trust_columns+nine_not_in_8_narrowed]\n",
    "\n",
    "\n",
    "mine_pair_parameters = namedtuple('mine_pair_parameters',['result_size','total_result_size','depth','task_name','constraints'])\n",
    "parameters=mine_pair_parameters(500,100,2,'mine_pair',[ps.MinSupportConstraint(200)])\n",
    "\n",
    "\n",
    "corr_m = correlations.CorrelationModel(trust_columns)\n",
    "qf = Ex_Distance(corr_m, correlations.Correlation_L_Distance(1), invert=False)\n",
    "corr_m2 = correlations.CorrelationModel(trust_columns)\n",
    "qf2 = Ex_Distance(corr_m2, correlations.Correlation_L_Distance(1), invert=False)\n",
    "sim_qf = Sim_Direct_Distance(corr_m, corr_m2, correlations.Correlation_L_Distance(1))\n",
    "alpha=0.1\n",
    "beta=0.5\n",
    "from RDMM.evaluation_framework import final_qf\n",
    "import functools\n",
    "out, df1, df2 = run_single_task(df_8_in, df_9_in, qf, qf2, sim_qf, functools.partial(final_qf,alpha,beta), parameters, model_columns=trust_columns)\n",
    "result = list(sorted(out))"
   ]
  },
  {
   "cell_type": "code",
   "execution_count": 47,
   "metadata": {},
   "outputs": [
    {
     "name": "stdout",
     "output_type": "stream",
     "text": [
      "69\n",
      "40\n"
     ]
    }
   ],
   "source": [
    "print(len(eight_not_in_9))\n",
    "print(len(nine_not_in_8))"
   ]
  },
  {
   "cell_type": "code",
   "execution_count": 48,
   "metadata": {},
   "outputs": [
    {
     "name": "stdout",
     "output_type": "stream",
     "text": [
      "['ppltrst', 'trstprl', 'trstlgl', 'trstplc', 'trstplt', 'trstprt', 'trstep', 'trstun']\n"
     ]
    }
   ],
   "source": [
    "print([col for col in df_9.columns if 'trust' in cb_9_flat[col].lower()])"
   ]
  },
  {
   "cell_type": "code",
   "execution_count": 49,
   "metadata": {},
   "outputs": [
    {
     "data": {
      "text/plain": [
       "[('ppltrst', \"Most people can be trusted or you can't be too careful\"),\n",
       " ('trstprl', \"Trust in country's parliament\"),\n",
       " ('trstlgl', 'Trust in the legal system'),\n",
       " ('trstplc', 'Trust in the police'),\n",
       " ('trstplt', 'Trust in politicians'),\n",
       " ('trstprt', 'Trust in political parties'),\n",
       " ('trstep', 'Trust in the European Parliament'),\n",
       " ('trstun', 'Trust in the United Nations')]"
      ]
     },
     "execution_count": 49,
     "metadata": {},
     "output_type": "execute_result"
    }
   ],
   "source": [
    "[(col, cb_8_flat[col]) for col in df_8.columns if 'trst' in col]"
   ]
  },
  {
   "cell_type": "code",
   "execution_count": 50,
   "metadata": {},
   "outputs": [
    {
     "name": "stdout",
     "output_type": "stream",
     "text": [
      "77\n",
      "69\n"
     ]
    }
   ],
   "source": [
    "print(len(df_8_in.columns))\n",
    "print(len(eight_not_in_9))"
   ]
  },
  {
   "cell_type": "code",
   "execution_count": 51,
   "metadata": {},
   "outputs": [
    {
     "name": "stdout",
     "output_type": "stream",
     "text": [
      "Administration of how democracy works questions\n",
      "Paid employment or apprenticeship at least 3 months 20 hours weekly\n",
      "Year first started in paid employment or apprenticeship\n",
      "Year first left parents for living separately for 2 months or more\n",
      "Ever lived with a spouse or partner for 3 months or more\n",
      "Year first lived with spouse or partner for 3 months or more\n",
      "Are or ever been married\n",
      "Ever given birth to/ fathered a child\n",
      "Number of children ever given birth to/ fathered\n",
      "Year (first) child was born\n",
      "Have any great grandchildren\n",
      "Administration of split ballot, ask about female or male\n",
      "Plan for future or take each day as it comes\n",
      "Respondent's main source of income\n",
      "Political system in country ensures everyone fair chance to participate in politics\n",
      "Government in country takes into account the interests of all citizens\n",
      "Decisions in country politics are transparent\n",
      "Compared other people in country, fair chance achieve level of education I seek\n",
      "Compared other people in country, fair chance get job I seek\n",
      "Everyone in country fair chance achieve level of education they seek\n",
      "Everyone in country fair chance get job they seek\n",
      "Filter variable: ask about pay, pensions, or social benefits\n",
      "Your [pay/pensions/social benefits], which frequency do you know best\n",
      "Your net [pay/pensions/social benefits] is unfairly low, fair, or unfairly high\n",
      "Net [pay/pensions/social benefits] of people same occupation as you in country, how fair\n",
      "Top 10% full-time employees in country, earning more than [amount], how fair\n",
      "Bottom 10% full-time employees in country, earning less than [amount], how fair\n",
      "Differences in wealth in country, how fair\n",
      "Influence decision to recruit in country: person's knowledge and skills\n",
      "Influence decision to recruit in country: person's on-the-job experience\n",
      "Influence decision to recruit in country: person knows someone in organisation\n",
      "Influence decision to recruit in country: person has immigrant background\n",
      "Influence decision to recruit in country: person's gender\n",
      "Society fair when income and wealth is equally distributed\n",
      "Society fair when hard-working people earn more than others\n",
      "Society fair when takes care of poor and in need, regardless of what give back\n",
      "Society fair when people from families with high social status enjoy privileges\n",
      "By and large, people get what they deserve\n",
      "Confident that justice always prevails over injustice\n",
      "Convinced that in the long run people compensated for injustices\n"
     ]
    }
   ],
   "source": [
    "for key in nine_not_in_8:\n",
    "    print(cb_9_flat[key])"
   ]
  },
  {
   "cell_type": "code",
   "execution_count": 152,
   "metadata": {
    "scrolled": false
   },
   "outputs": [
    {
     "data": {
      "image/png": "[encoded data removed]",
      "text/plain": [
       "<Figure size 432x288 with 2 Axes>"
      ]
     },
     "metadata": {
      "needs_background": "light"
     },
     "output_type": "display_data"
    },
    {
     "name": "stdout",
     "output_type": "stream",
     "text": [
      "0.8761278487488616 343 663\n",
      "sbsrnen=='Neither in favour nor against' AND slvpens=='Extremely bad' \t evpdemp=='No' AND poltran=='Not at all'\n"
     ]
    },
    {
     "data": {
      "image/png": "[encoded data removed]",
      "text/plain": [
       "<Figure size 432x288 with 2 Axes>"
      ]
     },
     "metadata": {
      "needs_background": "light"
     },
     "output_type": "display_data"
    },
    {
     "name": "stdout",
     "output_type": "stream",
     "text": [
      "0.8584827560151985 736 619\n",
      "imsclbn=='They should never get the same rights' AND lknemny=='Likely' \t evpdemp=='No' AND frprtpl=='Not at all'\n"
     ]
    },
    {
     "data": {
      "image/png": "[encoded data removed]",
      "text/plain": [
       "<Figure size 432x288 with 2 Axes>"
      ]
     },
     "metadata": {
      "needs_background": "light"
     },
     "output_type": "display_data"
    },
    {
     "name": "stdout",
     "output_type": "stream",
     "text": [
      "0.8553010355036217 736 633\n",
      "imsclbn=='They should never get the same rights' AND lknemny=='Likely' \t ifredu=='Does not apply at all' AND ifrjob=='Does not apply at all'\n"
     ]
    },
    {
     "data": {
      "image/png": "[encoded data removed]",
      "text/plain": [
       "<Figure size 432x288 with 2 Axes>"
      ]
     },
     "metadata": {
      "needs_background": "light"
     },
     "output_type": "display_data"
    },
    {
     "name": "stdout",
     "output_type": "stream",
     "text": [
      "0.8108199601697128 538 231\n",
      "eudcnbf=='Neither higher nor lower' AND wrdpfos=='Not at all worried' \t occinfr=='Low, very unfair' AND wltdffr=='Small, somewhat unfair'\n"
     ]
    },
    {
     "data": {
      "image/png": "[encoded data removed]",
      "text/plain": [
       "<Figure size 432x288 with 2 Axes>"
      ]
     },
     "metadata": {
      "needs_background": "light"
     },
     "output_type": "display_data"
    },
    {
     "name": "stdout",
     "output_type": "stream",
     "text": [
      "0.8062942142625199 621 1439\n",
      "imsclbn=='They should never get the same rights' AND pspwght>=1.25 \t evpdemp=='No' AND jstprev=='Agree'\n"
     ]
    },
    {
     "data": {
      "image/png": "[encoded data removed]",
      "text/plain": [
       "<Figure size 432x288 with 2 Axes>"
      ]
     },
     "metadata": {
      "needs_background": "light"
     },
     "output_type": "display_data"
    },
    {
     "name": "stdout",
     "output_type": "stream",
     "text": [
      "0.8045256826808617 621 535\n",
      "imsclbn=='They should never get the same rights' AND pspwght>=1.25 \t occinfr=='Low, extremely unfair' AND recgndr=='Not much or no influence'\n"
     ]
    },
    {
     "data": {
      "image/png": "[encoded data removed]",
      "text/plain": [
       "<Figure size 432x288 with 2 Axes>"
      ]
     },
     "metadata": {
      "needs_background": "light"
     },
     "output_type": "display_data"
    },
    {
     "name": "stdout",
     "output_type": "stream",
     "text": [
      "0.7967032046933319 494 521\n",
      "mnrgtjb=='Agree' AND wrtratc=='Not at all worried' \t evpdemp=='No' AND fcldbrn<1973.0\n"
     ]
    },
    {
     "data": {
      "image/png": "[encoded data removed]",
      "text/plain": [
       "<Figure size 432x288 with 2 Axes>"
      ]
     },
     "metadata": {
      "needs_background": "light"
     },
     "output_type": "display_data"
    },
    {
     "name": "stdout",
     "output_type": "stream",
     "text": [
      "0.7897035367650131 429 1439\n",
      "ccgdbd=='6' AND inctxff=='Somewhat in favour' \t evpdemp=='No' AND jstprev=='Agree'\n"
     ]
    },
    {
     "data": {
      "image/png": "[encoded data removed]",
      "text/plain": [
       "<Figure size 432x288 with 2 Axes>"
      ]
     },
     "metadata": {
      "needs_background": "light"
     },
     "output_type": "display_data"
    },
    {
     "name": "stdout",
     "output_type": "stream",
     "text": [
      "0.7867790514743481 357 539\n",
      "imsclbn=='They should never get the same rights' AND wrpwrct=='Very worried' \t fvgabc=='Pay' AND wltdffr=='Small, extremely unfair'\n"
     ]
    },
    {
     "data": {
      "image/png": "[encoded data removed]",
      "text/plain": [
       "<Figure size 432x288 with 2 Axes>"
      ]
     },
     "metadata": {
      "needs_background": "light"
     },
     "output_type": "display_data"
    }
   ],
   "source": [
    "the_diag= np.diag( [1,1,1,1,1,1,1,1])\n",
    "fig, (ax1, ax2) = plt.subplots(1, 2)\n",
    "fit_0=corr_m.fit(slice(None), df1).correlation_matrix\n",
    "vmin = -0.7\n",
    "vmax = 0.7\n",
    "\n",
    "ax1.matshow(fit_0-the_diag,cmap='coolwarm',vmin=vmin, vmax=vmax)\n",
    "\n",
    "fit_0=corr_m.fit(slice(None), df2).correlation_matrix\n",
    "ax2.matshow(fit_0-the_diag,cmap='coolwarm',vmin=vmin, vmax=vmax)\n",
    "plt.show()\n",
    "    #print(np.min(arr))\n",
    "    #print(np.sum(np.abs(arr)))\n",
    "    #print(np.linalg.norm(arr.flatten(),ord=1))\n",
    "    #\n",
    "result2=list(reversed(result))\n",
    "for q, tpl in result2[1:10]:\n",
    "    #if not 'isnull' in repr(tpl[0]):\n",
    "    print(q, tpl[2].size_sg, tpl[3].size_sg)\n",
    "    print(tpl[0], \"\\t\" ,tpl[1])\n",
    "    fig, (ax1, ax2) = plt.subplots(1, 2)\n",
    "    arr=(tpl[2].correlation_matrix-the_diag)\n",
    "    ax1.matshow(arr, vmin=vmin, vmax=vmax, cmap='coolwarm')\n",
    "    arr=(tpl[3].correlation_matrix-the_diag)\n",
    "    ax2.matshow(arr, vmin=vmin, vmax=vmax, cmap='coolwarm')\n",
    "    #fig.show()\n",
    "    plt.show()\n"
   ]
  },
  {
   "cell_type": "code",
   "execution_count": 53,
   "metadata": {},
   "outputs": [
    {
     "name": "stdout",
     "output_type": "stream",
     "text": [
      "How likely, large numbers of people limit energy use\n",
      "Government should be generous judging applications for refugee status\n",
      "Men should have more right to job than women when jobs are scarce\n",
      "Do you think world's climate is changing\n"
     ]
    }
   ],
   "source": [
    "print(cb_8_flat['lklmten'])\n",
    "print(cb_8_flat['gvrfgap'])\n",
    "print(cb_8_flat['mnrgtjb'])\n",
    "print(cb_8_flat['clmchng'])"
   ]
  },
  {
   "cell_type": "code",
   "execution_count": 54,
   "metadata": {},
   "outputs": [
    {
     "name": "stdout",
     "output_type": "stream",
     "text": [
      "Ever lived with a spouse or partner for 3 months or more\n",
      "Paid employment or apprenticeship at least 3 months 20 hours weekly\n",
      "Net [pay/pensions/social benefits] of people same occupation as you in country, how fair\n"
     ]
    }
   ],
   "source": [
    "print(cb_9_flat['evlvptn'])\n",
    "print(cb_9_flat['evpdemp'])\n",
    "print(cb_9_flat['occinfr'])"
   ]
  },
  {
   "cell_type": "code",
   "execution_count": 65,
   "metadata": {},
   "outputs": [],
   "source": [
    "df_8_trust = df_8[trust_columns]"
   ]
  },
  {
   "cell_type": "code",
   "execution_count": 153,
   "metadata": {},
   "outputs": [],
   "source": [
    "from tqdm import tqdm_notebook\n",
    "def calc_p_value(df_L, df_R, size_l, size_r, ex_qfs, sim_qf, final_qf,  repetitions):\n",
    "    ex_l, ex_r = ex_qfs\n",
    "    l=np.arange(len(df_L))\n",
    "    r=np.arange(len(df_R))\n",
    "    qualities = np.zeros(repetitions)\n",
    "    size_factor =  min(size_l/len(df_L), size_r/len(df_R))\n",
    "    f_qf = functools.partial(final_qf,alpha,beta)\n",
    "    for i in tqdm_notebook(range(repetitions)):\n",
    "        np.random.shuffle(l)\n",
    "        np.random.shuffle(r)\n",
    "        sg_l = l[:size_l]\n",
    "        sg_r = r[:size_r]\n",
    "        stats_l = sim_qf.calculate_statistics(sg_l, side=0)\n",
    "        stats_r = sim_qf.calculate_statistics(sg_r, side=1)\n",
    "        sim = sim_qf.evaluate(sg_l, sg_r, stats_l, stats_r)\n",
    "        ex = min(ex_l.evaluate(sg_l, df_L), ex_r.evaluate(sg_r, df_R))\n",
    "        qualities[i] = f_qf(size_factor, ex, sim )\n",
    "    return qualities"
   ]
  },
  {
   "cell_type": "code",
   "execution_count": 155,
   "metadata": {},
   "outputs": [
    {
     "name": "stderr",
     "output_type": "stream",
     "text": [
      "e:\\Playground\\ESS\\env\\lib\\site-packages\\ipykernel_launcher.py:9: TqdmDeprecationWarning: This function will be removed in tqdm==5.0.0\n",
      "Please use `tqdm.notebook.tqdm` instead of `tqdm.tqdm_notebook`\n",
      "  if __name__ == '__main__':\n"
     ]
    },
    {
     "data": {
      "application/vnd.jupyter.widget-view+json": {
       "model_id": "53fce5dc7be64194b3480abb037862bd",
       "version_major": 2,
       "version_minor": 0
      },
      "text/plain": [
       "HBox(children=(FloatProgress(value=0.0, max=10000.0), HTML(value='')))"
      ]
     },
     "metadata": {},
     "output_type": "display_data"
    },
    {
     "name": "stdout",
     "output_type": "stream",
     "text": [
      "\n"
     ]
    }
   ],
   "source": [
    "\n",
    "quals = calc_p_value(df1, df2, 743, 663, (qf, qf2), sim_qf,final_qf, 10000)"
   ]
  },
  {
   "cell_type": "code",
   "execution_count": 156,
   "metadata": {},
   "outputs": [
    {
     "data": {
      "text/plain": [
       "(array([  3.,  11.,  44.,  79., 154., 203., 291., 380., 470., 542., 553.,\n",
       "        644., 682., 724., 755., 693., 628., 575., 535., 435., 351., 279.,\n",
       "        220., 167., 136., 114.,  90.,  64.,  43.,  35.,  25.,  23.,  19.,\n",
       "         10.,  10.,   3.,   4.,   4.,   1.,   1.]),\n",
       " array([0.13383037, 0.14539069, 0.15695102, 0.16851134, 0.18007167,\n",
       "        0.191632  , 0.20319232, 0.21475265, 0.22631297, 0.2378733 ,\n",
       "        0.24943363, 0.26099395, 0.27255428, 0.28411461, 0.29567493,\n",
       "        0.30723526, 0.31879558, 0.33035591, 0.34191624, 0.35347656,\n",
       "        0.36503689, 0.37659721, 0.38815754, 0.39971787, 0.41127819,\n",
       "        0.42283852, 0.43439884, 0.44595917, 0.4575195 , 0.46907982,\n",
       "        0.48064015, 0.49220047, 0.5037608 , 0.51532113, 0.52688145,\n",
       "        0.53844178, 0.5500021 , 0.56156243, 0.57312276, 0.58468308,\n",
       "        0.59624341]),\n",
       " <a list of 40 Patch objects>)"
      ]
     },
     "execution_count": 156,
     "metadata": {},
     "output_type": "execute_result"
    },
    {
     "data": {
      "image/png": "[encoded data removed]",
      "text/plain": [
       "<Figure size 432x288 with 1 Axes>"
      ]
     },
     "metadata": {
      "needs_background": "light"
     },
     "output_type": "display_data"
    }
   ],
   "source": [
    "plt.hist(quals, bins=40)"
   ]
  },
  {
   "cell_type": "code",
   "execution_count": 157,
   "metadata": {},
   "outputs": [
    {
     "data": {
      "text/plain": [
       "<matplotlib.axes._subplots.AxesSubplot at 0x275e6585da0>"
      ]
     },
     "execution_count": 157,
     "metadata": {},
     "output_type": "execute_result"
    },
    {
     "data": {
      "image/png": "[encoded data removed]",
      "text/plain": [
       "<Figure size 432x288 with 1 Axes>"
      ]
     },
     "metadata": {
      "needs_background": "light"
     },
     "output_type": "display_data"
    }
   ],
   "source": [
    "import seaborn as sns\n",
    "from scipy.stats import norm\n",
    "sns.distplot(quals,  fit=norm, kde=False)"
   ]
  },
  {
   "cell_type": "code",
   "execution_count": 158,
   "metadata": {},
   "outputs": [
    {
     "name": "stdout",
     "output_type": "stream",
     "text": [
      "(0.3026437810576967, 0.06517591301078589)\n"
     ]
    }
   ],
   "source": [
    "fit_res = norm.fit(quals)\n",
    "print(fit_res)"
   ]
  },
  {
   "cell_type": "code",
   "execution_count": 159,
   "metadata": {},
   "outputs": [
    {
     "data": {
      "text/plain": [
       "0.3026437810576967"
      ]
     },
     "execution_count": 159,
     "metadata": {},
     "output_type": "execute_result"
    }
   ],
   "source": [
    "np.mean(quals)"
   ]
  },
  {
   "cell_type": "code",
   "execution_count": 160,
   "metadata": {},
   "outputs": [
    {
     "data": {
      "text/plain": [
       "5.37028168869388e-12"
      ]
     },
     "execution_count": 160,
     "metadata": {},
     "output_type": "execute_result"
    }
   ],
   "source": [
    "# quad exponential dropoff\n",
    "norm.pdf(0.87,*fit_res)*25*10**3"
   ]
  },
  {
   "cell_type": "code",
   "execution_count": 161,
   "metadata": {},
   "outputs": [
    {
     "data": {
      "text/plain": [
       "4.143880620375357"
      ]
     },
     "execution_count": 161,
     "metadata": {},
     "output_type": "execute_result"
    }
   ],
   "source": [
    "# exponential dropoff\n",
    "np.exp(-abs(0.87-fit_res[0])/fit_res[1])*25*10**3"
   ]
  },
  {
   "cell_type": "code",
   "execution_count": 162,
   "metadata": {},
   "outputs": [
    {
     "data": {
      "text/plain": [
       "329.91542158266026"
      ]
     },
     "execution_count": 162,
     "metadata": {},
     "output_type": "execute_result"
    }
   ],
   "source": [
    "#quadratic dropoff\n",
    "((0.87-fit_res[0])**2/fit_res[1]/fit_res[1])**(-1)*25*10**3"
   ]
  },
  {
   "cell_type": "code",
   "execution_count": null,
   "metadata": {},
   "outputs": [],
   "source": []
  },
  {
   "cell_type": "code",
   "execution_count": null,
   "metadata": {},
   "outputs": [],
   "source": []
  }
 ],
 "metadata": {
  "file_extension": ".py",
  "kernelspec": {
   "display_name": "Python 3",
   "language": "python",
   "name": "python3"
  },
  "language_info": {
   "codemirror_mode": {
    "name": "ipython",
    "version": 3
   },
   "file_extension": ".py",
   "mimetype": "text/x-python",
   "name": "python",
   "nbconvert_exporter": "python",
   "pygments_lexer": "ipython3",
   "version": "3.8.5"
  },
  "mimetype": "text/x-python",
  "name": "python",
  "npconvert_exporter": "python",
  "pygments_lexer": "ipython3",
  "version": 3
 },
 "nbformat": 4,
 "nbformat_minor": 2
}
