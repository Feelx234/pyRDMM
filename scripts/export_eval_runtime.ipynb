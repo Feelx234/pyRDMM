{
 "cells": [
  {
   "cell_type": "code",
   "execution_count": 1,
   "metadata": {},
   "outputs": [],
   "source": [
    "from RDMM.evaluation_framework import EvaluationFramework\n",
    "from pathlib import Path\n",
    "import numpy as np\n",
    "import pandas as pd\n",
    "pd.set_option('display.max_colwidth', 100)\n",
    "from collections import namedtuple\n",
    "from tqdm.notebook import tqdm\n",
    "from RDMM.utils import *"
   ]
  },
  {
   "cell_type": "markdown",
   "metadata": {},
   "source": [
    "## Setting up the paths where the results of the experiments are stored\n",
    "\n",
    "This path should be the same as the one used in `run_experiments.py`."
   ]
  },
  {
   "cell_type": "code",
   "execution_count": 2,
   "metadata": {},
   "outputs": [],
   "source": [
    "date_path=Path('06_04')\n",
    "pre_folder = Path.home()/Path('experiments')"
   ]
  },
  {
   "cell_type": "code",
   "execution_count": 3,
   "metadata": {},
   "outputs": [],
   "source": [
    "folder= pre_folder/date_path\n",
    "frame = EvaluationFramework(folder)"
   ]
  },
  {
   "cell_type": "markdown",
   "metadata": {},
   "source": [
    "### Below specify what kind of experiments have been conducted\n",
    "\n",
    "Currently we have selected the \"regression\" (regression) model class and the exhaustive approach."
   ]
  },
  {
   "cell_type": "code",
   "execution_count": 4,
   "metadata": {},
   "outputs": [],
   "source": [
    "#model_class=Path('regression')\n",
    "#model_class=Path('transition')\n",
    "model_class=Path('regression')\n",
    "\n",
    "#strategy = \"mine_pair\"\n",
    "strategy = \"exhaustive\""
   ]
  },
  {
   "cell_type": "code",
   "execution_count": 5,
   "metadata": {},
   "outputs": [],
   "source": [
    "if str(model_class)==\"regression\":\n",
    "    num_dataframes = 10\n",
    "    num_parameters = 36\n",
    "    num_quality_pairs = 9\n",
    "    experiment_name = strategy+\"_results\"\n",
    "elif str(model_class)==\"cov\":\n",
    "    num_dataframes = 10\n",
    "    num_parameters = 36\n",
    "    num_quality_pairs = 1\n",
    "    experiment_name = strategy+\"5_results\""
   ]
  },
  {
   "cell_type": "code",
   "execution_count": 6,
   "metadata": {},
   "outputs": [],
   "source": [
    "def evaluate_results(self, prefix, experiment_name, n_results, show_progress=None, allow_omit=False):\n",
    "    the_range=range(n_results)\n",
    "    if not show_progress is None:\n",
    "        the_range=show_progress(the_range)\n",
    "    total_runtime={}\n",
    "    mine_runtime={}\n",
    "    for n in the_range:\n",
    "        tpl = self.load_dataset(prefix/Path(experiment_name), n)\n",
    "        fixed_params = (tpl.alpha, tpl.beta,tpl.gamma, tpl.ex_qf_name, tpl.sim_qf_name)\n",
    "        mine_runtime[fixed_params] = (tpl.mine_runtime,)\n",
    "        total_runtime[fixed_params] = (tpl.total_runtime,)\n",
    "    mine_runtime=self.dict_to_df(mine_runtime)\n",
    "    mine_runtime.columns=[\"mine_runtime\"]\n",
    "    total_runtime=self.dict_to_df(total_runtime)\n",
    "    total_runtime.columns=[\"total_runtime\"]\n",
    "    return total_runtime, mine_runtime"
   ]
  },
  {
   "cell_type": "code",
   "execution_count": 7,
   "metadata": {},
   "outputs": [
    {
     "data": {
      "application/vnd.jupyter.widget-view+json": {
       "model_id": "a87a06c03aa6406bb926ff1834059bfb",
       "version_major": 2,
       "version_minor": 0
      },
      "text/plain": [
       "  0%|          | 0/3240 [00:00<?, ?it/s]"
      ]
     },
     "metadata": {},
     "output_type": "display_data"
    }
   ],
   "source": [
    "total_experiments=num_dataframes * num_parameters * num_quality_pairs\n",
    "result_frames  = evaluate_results(frame, model_class, experiment_name, total_experiments, tqdm, allow_omit=False)"
   ]
  },
  {
   "cell_type": "code",
   "execution_count": 8,
   "metadata": {},
   "outputs": [],
   "source": [
    "abbreviations={'LikelihoodExceptionality_transition':'Like',\n",
    "'LikelihoodSimilarity':'Like',\n",
    "'TotalVariationSimilarity': 'var',\n",
    " 'TotalVariationExceptionality':'var',\n",
    " 'ParameterDiff':'par',\n",
    " 'ParameterDiff_sim':'par',\n",
    " 'Cooks_sim':'Cooks',\n",
    " 'Like_sim':'Like',\n",
    " 'Log_sim':'Log',\n",
    " 'par_sim':'par',\n",
    "  'Norm 1':'Norm1'}"
   ]
  },
  {
   "cell_type": "code",
   "execution_count": 9,
   "metadata": {},
   "outputs": [],
   "source": [
    "def unstack_index(df, fun):\n",
    "    new_df = df.groupby(['ex','sim']).agg(fun)\n",
    "    #new_df = new_df.reorder_levels(['ex','sim'])\n",
    "    return new_df"
   ]
  },
  {
   "cell_type": "code",
   "execution_count": 10,
   "metadata": {},
   "outputs": [],
   "source": [
    "df_total = unstack_index(result_frames[0], ['mean','std']).sort_index()\n",
    "df_mine = unstack_index(result_frames[1], ['mean','std']).sort_index()"
   ]
  },
  {
   "cell_type": "code",
   "execution_count": 11,
   "metadata": {},
   "outputs": [
    {
     "data": {
      "text/html": [
       "<div>\n",
       "<style scoped>\n",
       "    .dataframe tbody tr th:only-of-type {\n",
       "        vertical-align: middle;\n",
       "    }\n",
       "\n",
       "    .dataframe tbody tr th {\n",
       "        vertical-align: top;\n",
       "    }\n",
       "\n",
       "    .dataframe thead tr th {\n",
       "        text-align: left;\n",
       "    }\n",
       "\n",
       "    .dataframe thead tr:last-of-type th {\n",
       "        text-align: right;\n",
       "    }\n",
       "</style>\n",
       "<table border=\"1\" class=\"dataframe\">\n",
       "  <thead>\n",
       "    <tr>\n",
       "      <th></th>\n",
       "      <th></th>\n",
       "      <th colspan=\"2\" halign=\"left\">total_runtime</th>\n",
       "    </tr>\n",
       "    <tr>\n",
       "      <th></th>\n",
       "      <th></th>\n",
       "      <th>mean</th>\n",
       "      <th>std</th>\n",
       "    </tr>\n",
       "    <tr>\n",
       "      <th>ex</th>\n",
       "      <th>sim</th>\n",
       "      <th></th>\n",
       "      <th></th>\n",
       "    </tr>\n",
       "  </thead>\n",
       "  <tbody>\n",
       "    <tr>\n",
       "      <th rowspan=\"3\" valign=\"top\">Cooks</th>\n",
       "      <th>Cooks_sim</th>\n",
       "      <td>97.772485</td>\n",
       "      <td>10.471489</td>\n",
       "    </tr>\n",
       "    <tr>\n",
       "      <th>Like_sim</th>\n",
       "      <td>60.630669</td>\n",
       "      <td>7.746077</td>\n",
       "    </tr>\n",
       "    <tr>\n",
       "      <th>par_sim</th>\n",
       "      <td>63.357430</td>\n",
       "      <td>7.419849</td>\n",
       "    </tr>\n",
       "    <tr>\n",
       "      <th rowspan=\"3\" valign=\"top\">Like</th>\n",
       "      <th>Cooks_sim</th>\n",
       "      <td>108.396113</td>\n",
       "      <td>16.779303</td>\n",
       "    </tr>\n",
       "    <tr>\n",
       "      <th>Like_sim</th>\n",
       "      <td>74.989559</td>\n",
       "      <td>13.029288</td>\n",
       "    </tr>\n",
       "    <tr>\n",
       "      <th>par_sim</th>\n",
       "      <td>72.192890</td>\n",
       "      <td>12.676707</td>\n",
       "    </tr>\n",
       "    <tr>\n",
       "      <th rowspan=\"3\" valign=\"top\">par</th>\n",
       "      <th>Cooks_sim</th>\n",
       "      <td>98.906005</td>\n",
       "      <td>10.656750</td>\n",
       "    </tr>\n",
       "    <tr>\n",
       "      <th>Like_sim</th>\n",
       "      <td>61.195644</td>\n",
       "      <td>6.315275</td>\n",
       "    </tr>\n",
       "    <tr>\n",
       "      <th>par_sim</th>\n",
       "      <td>64.407764</td>\n",
       "      <td>6.305138</td>\n",
       "    </tr>\n",
       "  </tbody>\n",
       "</table>\n",
       "</div>"
      ],
      "text/plain": [
       "                total_runtime           \n",
       "                         mean        std\n",
       "ex    sim                               \n",
       "Cooks Cooks_sim     97.772485  10.471489\n",
       "      Like_sim      60.630669   7.746077\n",
       "      par_sim       63.357430   7.419849\n",
       "Like  Cooks_sim    108.396113  16.779303\n",
       "      Like_sim      74.989559  13.029288\n",
       "      par_sim       72.192890  12.676707\n",
       "par   Cooks_sim     98.906005  10.656750\n",
       "      Like_sim      61.195644   6.315275\n",
       "      par_sim       64.407764   6.305138"
      ]
     },
     "execution_count": 11,
     "metadata": {},
     "output_type": "execute_result"
    }
   ],
   "source": [
    "df_total"
   ]
  },
  {
   "cell_type": "code",
   "execution_count": 12,
   "metadata": {},
   "outputs": [],
   "source": [
    "df_mine.columns=df_mine.columns.droplevel()"
   ]
  },
  {
   "cell_type": "code",
   "execution_count": 13,
   "metadata": {},
   "outputs": [],
   "source": [
    "df_total.columns=df_total.columns.droplevel()"
   ]
  },
  {
   "cell_type": "code",
   "execution_count": 14,
   "metadata": {},
   "outputs": [
    {
     "data": {
      "text/html": [
       "<div>\n",
       "<style scoped>\n",
       "    .dataframe tbody tr th:only-of-type {\n",
       "        vertical-align: middle;\n",
       "    }\n",
       "\n",
       "    .dataframe tbody tr th {\n",
       "        vertical-align: top;\n",
       "    }\n",
       "\n",
       "    .dataframe thead th {\n",
       "        text-align: right;\n",
       "    }\n",
       "</style>\n",
       "<table border=\"1\" class=\"dataframe\">\n",
       "  <thead>\n",
       "    <tr style=\"text-align: right;\">\n",
       "      <th></th>\n",
       "      <th>mean</th>\n",
       "      <th>std</th>\n",
       "    </tr>\n",
       "    <tr>\n",
       "      <th>sim</th>\n",
       "      <th></th>\n",
       "      <th></th>\n",
       "    </tr>\n",
       "  </thead>\n",
       "  <tbody>\n",
       "    <tr>\n",
       "      <th>Cooks_sim</th>\n",
       "      <td>98.379732</td>\n",
       "      <td>11.986317</td>\n",
       "    </tr>\n",
       "    <tr>\n",
       "      <th>Like_sim</th>\n",
       "      <td>62.452288</td>\n",
       "      <td>8.458218</td>\n",
       "    </tr>\n",
       "    <tr>\n",
       "      <th>par_sim</th>\n",
       "      <td>63.961637</td>\n",
       "      <td>8.260196</td>\n",
       "    </tr>\n",
       "  </tbody>\n",
       "</table>\n",
       "</div>"
      ],
      "text/plain": [
       "                mean        std\n",
       "sim                            \n",
       "Cooks_sim  98.379732  11.986317\n",
       "Like_sim   62.452288   8.458218\n",
       "par_sim    63.961637   8.260196"
      ]
     },
     "execution_count": 14,
     "metadata": {},
     "output_type": "execute_result"
    }
   ],
   "source": [
    "(df_total-df_mine).groupby(['sim']).agg('mean')"
   ]
  },
  {
   "cell_type": "code",
   "execution_count": 15,
   "metadata": {},
   "outputs": [
    {
     "data": {
      "text/html": [
       "<div>\n",
       "<style scoped>\n",
       "    .dataframe tbody tr th:only-of-type {\n",
       "        vertical-align: middle;\n",
       "    }\n",
       "\n",
       "    .dataframe tbody tr th {\n",
       "        vertical-align: top;\n",
       "    }\n",
       "\n",
       "    .dataframe thead th {\n",
       "        text-align: right;\n",
       "    }\n",
       "</style>\n",
       "<table border=\"1\" class=\"dataframe\">\n",
       "  <thead>\n",
       "    <tr style=\"text-align: right;\">\n",
       "      <th></th>\n",
       "      <th>mean</th>\n",
       "      <th>std</th>\n",
       "    </tr>\n",
       "    <tr>\n",
       "      <th>sim</th>\n",
       "      <th></th>\n",
       "      <th></th>\n",
       "    </tr>\n",
       "  </thead>\n",
       "  <tbody>\n",
       "    <tr>\n",
       "      <th>Cooks_sim</th>\n",
       "      <td>101.691534</td>\n",
       "      <td>12.635847</td>\n",
       "    </tr>\n",
       "    <tr>\n",
       "      <th>Like_sim</th>\n",
       "      <td>65.605291</td>\n",
       "      <td>9.030213</td>\n",
       "    </tr>\n",
       "    <tr>\n",
       "      <th>par_sim</th>\n",
       "      <td>66.652695</td>\n",
       "      <td>8.800565</td>\n",
       "    </tr>\n",
       "  </tbody>\n",
       "</table>\n",
       "</div>"
      ],
      "text/plain": [
       "                 mean        std\n",
       "sim                             \n",
       "Cooks_sim  101.691534  12.635847\n",
       "Like_sim    65.605291   9.030213\n",
       "par_sim     66.652695   8.800565"
      ]
     },
     "execution_count": 15,
     "metadata": {},
     "output_type": "execute_result"
    }
   ],
   "source": [
    "(df_total).groupby(['sim']).agg('mean')"
   ]
  },
  {
   "cell_type": "code",
   "execution_count": 16,
   "metadata": {},
   "outputs": [],
   "source": [
    "df_mine = result_frames[1].groupby(['sim']).agg(['mean','std']).sort_index()\n",
    "df_total2 = result_frames[0].groupby(['sim']).agg(['mean','std']).sort_index()"
   ]
  },
  {
   "cell_type": "code",
   "execution_count": 17,
   "metadata": {},
   "outputs": [
    {
     "data": {
      "text/html": [
       "<div>\n",
       "<style scoped>\n",
       "    .dataframe tbody tr th:only-of-type {\n",
       "        vertical-align: middle;\n",
       "    }\n",
       "\n",
       "    .dataframe tbody tr th {\n",
       "        vertical-align: top;\n",
       "    }\n",
       "\n",
       "    .dataframe thead tr th {\n",
       "        text-align: left;\n",
       "    }\n",
       "\n",
       "    .dataframe thead tr:last-of-type th {\n",
       "        text-align: right;\n",
       "    }\n",
       "</style>\n",
       "<table border=\"1\" class=\"dataframe\">\n",
       "  <thead>\n",
       "    <tr>\n",
       "      <th></th>\n",
       "      <th colspan=\"2\" halign=\"left\">total_runtime</th>\n",
       "    </tr>\n",
       "    <tr>\n",
       "      <th></th>\n",
       "      <th>mean</th>\n",
       "      <th>std</th>\n",
       "    </tr>\n",
       "    <tr>\n",
       "      <th>sim</th>\n",
       "      <th></th>\n",
       "      <th></th>\n",
       "    </tr>\n",
       "  </thead>\n",
       "  <tbody>\n",
       "    <tr>\n",
       "      <th>Cooks_sim</th>\n",
       "      <td>101.691534</td>\n",
       "      <td>13.711726</td>\n",
       "    </tr>\n",
       "    <tr>\n",
       "      <th>Like_sim</th>\n",
       "      <td>65.605291</td>\n",
       "      <td>11.519534</td>\n",
       "    </tr>\n",
       "    <tr>\n",
       "      <th>par_sim</th>\n",
       "      <td>66.652695</td>\n",
       "      <td>9.962591</td>\n",
       "    </tr>\n",
       "  </tbody>\n",
       "</table>\n",
       "</div>"
      ],
      "text/plain": [
       "          total_runtime           \n",
       "                   mean        std\n",
       "sim                               \n",
       "Cooks_sim    101.691534  13.711726\n",
       "Like_sim      65.605291  11.519534\n",
       "par_sim       66.652695   9.962591"
      ]
     },
     "execution_count": 17,
     "metadata": {},
     "output_type": "execute_result"
    }
   ],
   "source": [
    "df_total2"
   ]
  },
  {
   "cell_type": "code",
   "execution_count": null,
   "metadata": {},
   "outputs": [],
   "source": []
  }
 ],
 "metadata": {
  "file_extension": ".py",
  "kernelspec": {
   "display_name": "Python 3",
   "language": "python",
   "name": "python3"
  },
  "language_info": {
   "codemirror_mode": {
    "name": "ipython",
    "version": 3
   },
   "file_extension": ".py",
   "mimetype": "text/x-python",
   "name": "python",
   "nbconvert_exporter": "python",
   "pygments_lexer": "ipython3",
   "version": "3.8.5"
  },
  "mimetype": "text/x-python",
  "name": "python",
  "npconvert_exporter": "python",
  "pygments_lexer": "ipython3",
  "version": 3
 },
 "nbformat": 4,
 "nbformat_minor": 2
}
