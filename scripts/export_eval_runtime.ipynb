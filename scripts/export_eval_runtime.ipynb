{
 "cells": [
  {
   "cell_type": "code",
   "execution_count": 1,
   "metadata": {},
   "outputs": [
    {
     "name": "stdout",
     "output_type": "stream",
     "text": [
      "C:\\Users\\Stamm\\experiments\\02_05\n"
     ]
    }
   ],
   "source": [
    "import warnings\n",
    "#warnings.filterwarnings(\"error\")\n",
    "import sys\n",
    "sys.path.append('pysubgroup')\n",
    "from model_mining.evaluation_framework import EvaluationFramework\n",
    "from pathlib import Path\n",
    "import numpy as np\n",
    "import pandas as pd\n",
    "from collections import namedtuple\n",
    "from tqdm import tqdm\n",
    "date_path=Path('02_05')\n",
    "folder= Path.home()/Path('experiments')/date_path\n",
    "print(folder)\n",
    "frame = EvaluationFramework(folder)\n",
    "pd.set_option('display.max_colwidth', 100)\n",
    "from model_mining.utils import *"
   ]
  },
  {
   "cell_type": "code",
   "execution_count": 2,
   "metadata": {},
   "outputs": [],
   "source": [
    "def evaluate_results(self, prefix, experiment_name, n_results, show_progress=None, allow_omit=False):\n",
    "    the_range=range(n_results)\n",
    "    if not show_progress is None:\n",
    "        the_range=show_progress(the_range)\n",
    "    total_runtime={}\n",
    "    mine_runtime={}\n",
    "    for n in the_range:\n",
    "        tpl = self.load_dataset(prefix/Path(experiment_name), n)\n",
    "        fixed_params = (tpl.alpha, tpl.beta,tpl.gamma, tpl.ex_qf_name, tpl.sim_qf_name)\n",
    "        mine_runtime[fixed_params] = (tpl.mine_runtime,)\n",
    "        total_runtime[fixed_params] = (tpl.total_runtime,)\n",
    "    mine_runtime=self.dict_to_df(mine_runtime)\n",
    "    total_runtime=self.dict_to_df(total_runtime)\n",
    "    return total_runtime, mine_runtime"
   ]
  },
  {
   "cell_type": "code",
   "execution_count": 3,
   "metadata": {},
   "outputs": [
    {
     "name": "stderr",
     "output_type": "stream",
     "text": [
      "100%|█████████████████████████████████████████████████████████████████████████████████████████████████████████████████████████████████████████████████████████████████████████████████████████████████████████████████████████████████████████████████████| 5760/5760 [00:07<00:00, 806.05it/s]\n"
     ]
    }
   ],
   "source": [
    "num_dataframes = 10\n",
    "num_parameters = 36\n",
    "num_quality_pairs = 16\n",
    "#model_class=Path('regression')\n",
    "model_class=Path('regression')\n",
    "experiment_name='mine_pair'+'_results'\n",
    "\n",
    "total_experiments=num_dataframes * num_parameters * num_quality_pairs\n",
    "result_frames  = evaluate_results(frame, model_class,experiment_name, total_experiments, tqdm, allow_omit=False)"
   ]
  },
  {
   "cell_type": "code",
   "execution_count": 4,
   "metadata": {},
   "outputs": [],
   "source": [
    "abbreviations={'LikelihoodExceptionality_transition':'Like',\n",
    "'LikelihoodSimilarity':'Like',\n",
    "'TotalVariationSimilarity': 'var',\n",
    " 'TotalVariationExceptionality':'var',\n",
    " 'ParameterDiff':'par',\n",
    " 'ParameterDiff_sim':'par',\n",
    " 'Cooks_sim':'Cooks',\n",
    " 'Like_sim':'Like',\n",
    " 'Log_sim':'Log',\n",
    " 'par_sim':'par'} "
   ]
  },
  {
   "cell_type": "code",
   "execution_count": 5,
   "metadata": {},
   "outputs": [],
   "source": [
    "def unstack_index(df, fun):\n",
    "    new_df = df.groupby(['ex','sim']).agg(fun)\n",
    "    #new_df = new_df.reorder_levels(['ex','sim'])\n",
    "    return new_df"
   ]
  },
  {
   "cell_type": "code",
   "execution_count": 6,
   "metadata": {},
   "outputs": [],
   "source": [
    "df_total = unstack_index(result_frames[0], ['mean','std']).sort_index()\n",
    "df_mine = unstack_index(result_frames[1], ['mean','std']).sort_index()"
   ]
  },
  {
   "cell_type": "code",
   "execution_count": 7,
   "metadata": {},
   "outputs": [
    {
     "data": {
      "text/html": [
       "<div>\n",
       "<style scoped>\n",
       "    .dataframe tbody tr th:only-of-type {\n",
       "        vertical-align: middle;\n",
       "    }\n",
       "\n",
       "    .dataframe tbody tr th {\n",
       "        vertical-align: top;\n",
       "    }\n",
       "\n",
       "    .dataframe thead tr th {\n",
       "        text-align: left;\n",
       "    }\n",
       "\n",
       "    .dataframe thead tr:last-of-type th {\n",
       "        text-align: right;\n",
       "    }\n",
       "</style>\n",
       "<table border=\"1\" class=\"dataframe\">\n",
       "  <thead>\n",
       "    <tr>\n",
       "      <th></th>\n",
       "      <th></th>\n",
       "      <th colspan=\"2\" halign=\"left\">0</th>\n",
       "    </tr>\n",
       "    <tr>\n",
       "      <th></th>\n",
       "      <th></th>\n",
       "      <th>mean</th>\n",
       "      <th>std</th>\n",
       "    </tr>\n",
       "    <tr>\n",
       "      <th>ex</th>\n",
       "      <th>sim</th>\n",
       "      <th></th>\n",
       "      <th></th>\n",
       "    </tr>\n",
       "  </thead>\n",
       "  <tbody>\n",
       "    <tr>\n",
       "      <td rowspan=\"4\" valign=\"top\">Cooks</td>\n",
       "      <td>Cooks_sim</td>\n",
       "      <td>0.351096</td>\n",
       "      <td>0.014732</td>\n",
       "    </tr>\n",
       "    <tr>\n",
       "      <td>Like_sim</td>\n",
       "      <td>0.292721</td>\n",
       "      <td>0.011968</td>\n",
       "    </tr>\n",
       "    <tr>\n",
       "      <td>Log_sim</td>\n",
       "      <td>0.283411</td>\n",
       "      <td>0.016254</td>\n",
       "    </tr>\n",
       "    <tr>\n",
       "      <td>par_sim</td>\n",
       "      <td>0.286001</td>\n",
       "      <td>0.013621</td>\n",
       "    </tr>\n",
       "    <tr>\n",
       "      <td rowspan=\"4\" valign=\"top\">Like</td>\n",
       "      <td>Cooks_sim</td>\n",
       "      <td>0.412315</td>\n",
       "      <td>0.015362</td>\n",
       "    </tr>\n",
       "    <tr>\n",
       "      <td>Like_sim</td>\n",
       "      <td>0.353055</td>\n",
       "      <td>0.013217</td>\n",
       "    </tr>\n",
       "    <tr>\n",
       "      <td>Log_sim</td>\n",
       "      <td>0.343333</td>\n",
       "      <td>0.015423</td>\n",
       "    </tr>\n",
       "    <tr>\n",
       "      <td>par_sim</td>\n",
       "      <td>0.351277</td>\n",
       "      <td>0.014969</td>\n",
       "    </tr>\n",
       "    <tr>\n",
       "      <td rowspan=\"4\" valign=\"top\">Log</td>\n",
       "      <td>Cooks_sim</td>\n",
       "      <td>0.559424</td>\n",
       "      <td>0.018574</td>\n",
       "    </tr>\n",
       "    <tr>\n",
       "      <td>Like_sim</td>\n",
       "      <td>0.499803</td>\n",
       "      <td>0.024529</td>\n",
       "    </tr>\n",
       "    <tr>\n",
       "      <td>Log_sim</td>\n",
       "      <td>0.491284</td>\n",
       "      <td>0.019956</td>\n",
       "    </tr>\n",
       "    <tr>\n",
       "      <td>par_sim</td>\n",
       "      <td>0.498373</td>\n",
       "      <td>0.012785</td>\n",
       "    </tr>\n",
       "    <tr>\n",
       "      <td rowspan=\"4\" valign=\"top\">par</td>\n",
       "      <td>Cooks_sim</td>\n",
       "      <td>0.351545</td>\n",
       "      <td>0.013112</td>\n",
       "    </tr>\n",
       "    <tr>\n",
       "      <td>Like_sim</td>\n",
       "      <td>0.299733</td>\n",
       "      <td>0.013216</td>\n",
       "    </tr>\n",
       "    <tr>\n",
       "      <td>Log_sim</td>\n",
       "      <td>0.287386</td>\n",
       "      <td>0.013121</td>\n",
       "    </tr>\n",
       "    <tr>\n",
       "      <td>par_sim</td>\n",
       "      <td>0.297135</td>\n",
       "      <td>0.017157</td>\n",
       "    </tr>\n",
       "  </tbody>\n",
       "</table>\n",
       "</div>"
      ],
      "text/plain": [
       "                        0          \n",
       "                     mean       std\n",
       "ex    sim                          \n",
       "Cooks Cooks_sim  0.351096  0.014732\n",
       "      Like_sim   0.292721  0.011968\n",
       "      Log_sim    0.283411  0.016254\n",
       "      par_sim    0.286001  0.013621\n",
       "Like  Cooks_sim  0.412315  0.015362\n",
       "      Like_sim   0.353055  0.013217\n",
       "      Log_sim    0.343333  0.015423\n",
       "      par_sim    0.351277  0.014969\n",
       "Log   Cooks_sim  0.559424  0.018574\n",
       "      Like_sim   0.499803  0.024529\n",
       "      Log_sim    0.491284  0.019956\n",
       "      par_sim    0.498373  0.012785\n",
       "par   Cooks_sim  0.351545  0.013112\n",
       "      Like_sim   0.299733  0.013216\n",
       "      Log_sim    0.287386  0.013121\n",
       "      par_sim    0.297135  0.017157"
      ]
     },
     "execution_count": 7,
     "metadata": {},
     "output_type": "execute_result"
    }
   ],
   "source": [
    "df_total"
   ]
  },
  {
   "cell_type": "code",
   "execution_count": 8,
   "metadata": {},
   "outputs": [],
   "source": [
    "df_mine.columns=df_mine.columns.droplevel()"
   ]
  },
  {
   "cell_type": "code",
   "execution_count": 9,
   "metadata": {},
   "outputs": [],
   "source": [
    "df_total.columns=df_total.columns.droplevel()"
   ]
  },
  {
   "cell_type": "code",
   "execution_count": 10,
   "metadata": {},
   "outputs": [
    {
     "data": {
      "text/html": [
       "<div>\n",
       "<style scoped>\n",
       "    .dataframe tbody tr th:only-of-type {\n",
       "        vertical-align: middle;\n",
       "    }\n",
       "\n",
       "    .dataframe tbody tr th {\n",
       "        vertical-align: top;\n",
       "    }\n",
       "\n",
       "    .dataframe thead th {\n",
       "        text-align: right;\n",
       "    }\n",
       "</style>\n",
       "<table border=\"1\" class=\"dataframe\">\n",
       "  <thead>\n",
       "    <tr style=\"text-align: right;\">\n",
       "      <th></th>\n",
       "      <th>mean</th>\n",
       "      <th>std</th>\n",
       "    </tr>\n",
       "    <tr>\n",
       "      <th>sim</th>\n",
       "      <th></th>\n",
       "      <th></th>\n",
       "    </tr>\n",
       "  </thead>\n",
       "  <tbody>\n",
       "    <tr>\n",
       "      <td>Cooks_sim</td>\n",
       "      <td>0.110274</td>\n",
       "      <td>0.002608</td>\n",
       "    </tr>\n",
       "    <tr>\n",
       "      <td>Like_sim</td>\n",
       "      <td>0.054764</td>\n",
       "      <td>0.001920</td>\n",
       "    </tr>\n",
       "    <tr>\n",
       "      <td>Log_sim</td>\n",
       "      <td>0.056020</td>\n",
       "      <td>0.002180</td>\n",
       "    </tr>\n",
       "    <tr>\n",
       "      <td>par_sim</td>\n",
       "      <td>0.063324</td>\n",
       "      <td>0.002661</td>\n",
       "    </tr>\n",
       "  </tbody>\n",
       "</table>\n",
       "</div>"
      ],
      "text/plain": [
       "               mean       std\n",
       "sim                          \n",
       "Cooks_sim  0.110274  0.002608\n",
       "Like_sim   0.054764  0.001920\n",
       "Log_sim    0.056020  0.002180\n",
       "par_sim    0.063324  0.002661"
      ]
     },
     "execution_count": 10,
     "metadata": {},
     "output_type": "execute_result"
    }
   ],
   "source": [
    "(df_total-df_mine).groupby(['sim']).agg('mean')"
   ]
  },
  {
   "cell_type": "code",
   "execution_count": 11,
   "metadata": {},
   "outputs": [
    {
     "data": {
      "text/html": [
       "<div>\n",
       "<style scoped>\n",
       "    .dataframe tbody tr th:only-of-type {\n",
       "        vertical-align: middle;\n",
       "    }\n",
       "\n",
       "    .dataframe tbody tr th {\n",
       "        vertical-align: top;\n",
       "    }\n",
       "\n",
       "    .dataframe thead th {\n",
       "        text-align: right;\n",
       "    }\n",
       "</style>\n",
       "<table border=\"1\" class=\"dataframe\">\n",
       "  <thead>\n",
       "    <tr style=\"text-align: right;\">\n",
       "      <th></th>\n",
       "      <th>mean</th>\n",
       "      <th>std</th>\n",
       "    </tr>\n",
       "    <tr>\n",
       "      <th>sim</th>\n",
       "      <th></th>\n",
       "      <th></th>\n",
       "    </tr>\n",
       "  </thead>\n",
       "  <tbody>\n",
       "    <tr>\n",
       "      <td>Cooks_sim</td>\n",
       "      <td>0.418595</td>\n",
       "      <td>0.015445</td>\n",
       "    </tr>\n",
       "    <tr>\n",
       "      <td>Like_sim</td>\n",
       "      <td>0.361328</td>\n",
       "      <td>0.015733</td>\n",
       "    </tr>\n",
       "    <tr>\n",
       "      <td>Log_sim</td>\n",
       "      <td>0.351353</td>\n",
       "      <td>0.016188</td>\n",
       "    </tr>\n",
       "    <tr>\n",
       "      <td>par_sim</td>\n",
       "      <td>0.358196</td>\n",
       "      <td>0.014633</td>\n",
       "    </tr>\n",
       "  </tbody>\n",
       "</table>\n",
       "</div>"
      ],
      "text/plain": [
       "               mean       std\n",
       "sim                          \n",
       "Cooks_sim  0.418595  0.015445\n",
       "Like_sim   0.361328  0.015733\n",
       "Log_sim    0.351353  0.016188\n",
       "par_sim    0.358196  0.014633"
      ]
     },
     "execution_count": 11,
     "metadata": {},
     "output_type": "execute_result"
    }
   ],
   "source": [
    "(df_total).groupby(['sim']).agg('mean')"
   ]
  },
  {
   "cell_type": "code",
   "execution_count": 12,
   "metadata": {},
   "outputs": [],
   "source": [
    "df_mine = result_frames[1].groupby(['sim']).agg(['mean','std']).sort_index()\n",
    "df_total2 = result_frames[0].groupby(['sim']).agg(['mean','std']).sort_index()"
   ]
  },
  {
   "cell_type": "code",
   "execution_count": 13,
   "metadata": {},
   "outputs": [
    {
     "data": {
      "text/html": [
       "<div>\n",
       "<style scoped>\n",
       "    .dataframe tbody tr th:only-of-type {\n",
       "        vertical-align: middle;\n",
       "    }\n",
       "\n",
       "    .dataframe tbody tr th {\n",
       "        vertical-align: top;\n",
       "    }\n",
       "\n",
       "    .dataframe thead tr th {\n",
       "        text-align: left;\n",
       "    }\n",
       "\n",
       "    .dataframe thead tr:last-of-type th {\n",
       "        text-align: right;\n",
       "    }\n",
       "</style>\n",
       "<table border=\"1\" class=\"dataframe\">\n",
       "  <thead>\n",
       "    <tr>\n",
       "      <th></th>\n",
       "      <th colspan=\"2\" halign=\"left\">0</th>\n",
       "    </tr>\n",
       "    <tr>\n",
       "      <th></th>\n",
       "      <th>mean</th>\n",
       "      <th>std</th>\n",
       "    </tr>\n",
       "    <tr>\n",
       "      <th>sim</th>\n",
       "      <th></th>\n",
       "      <th></th>\n",
       "    </tr>\n",
       "  </thead>\n",
       "  <tbody>\n",
       "    <tr>\n",
       "      <td>Cooks_sim</td>\n",
       "      <td>0.418595</td>\n",
       "      <td>0.086712</td>\n",
       "    </tr>\n",
       "    <tr>\n",
       "      <td>Like_sim</td>\n",
       "      <td>0.361328</td>\n",
       "      <td>0.085162</td>\n",
       "    </tr>\n",
       "    <tr>\n",
       "      <td>Log_sim</td>\n",
       "      <td>0.351353</td>\n",
       "      <td>0.086025</td>\n",
       "    </tr>\n",
       "    <tr>\n",
       "      <td>par_sim</td>\n",
       "      <td>0.358196</td>\n",
       "      <td>0.086150</td>\n",
       "    </tr>\n",
       "  </tbody>\n",
       "</table>\n",
       "</div>"
      ],
      "text/plain": [
       "                  0          \n",
       "               mean       std\n",
       "sim                          \n",
       "Cooks_sim  0.418595  0.086712\n",
       "Like_sim   0.361328  0.085162\n",
       "Log_sim    0.351353  0.086025\n",
       "par_sim    0.358196  0.086150"
      ]
     },
     "execution_count": 13,
     "metadata": {},
     "output_type": "execute_result"
    }
   ],
   "source": [
    "df_total2"
   ]
  },
  {
   "cell_type": "code",
   "execution_count": 14,
   "metadata": {},
   "outputs": [
    {
     "ename": "NameError",
     "evalue": "name 'df_min' is not defined",
     "output_type": "error",
     "traceback": [
      "\u001b[1;31m---------------------------------------------------------------------------\u001b[0m",
      "\u001b[1;31mNameError\u001b[0m                                 Traceback (most recent call last)",
      "\u001b[1;32m<ipython-input-14-3e73daee80e8>\u001b[0m in \u001b[0;36m<module>\u001b[1;34m\u001b[0m\n\u001b[1;32m----> 1\u001b[1;33m \u001b[1;33m(\u001b[0m\u001b[0mdf_min\u001b[0m\u001b[1;33m)\u001b[0m\u001b[1;33m.\u001b[0m\u001b[0mgroupby\u001b[0m\u001b[1;33m(\u001b[0m\u001b[1;33m[\u001b[0m\u001b[1;34m'ex'\u001b[0m\u001b[1;33m]\u001b[0m\u001b[1;33m)\u001b[0m\u001b[1;33m.\u001b[0m\u001b[0magg\u001b[0m\u001b[1;33m(\u001b[0m\u001b[1;34m'mean'\u001b[0m\u001b[1;33m)\u001b[0m\u001b[1;33m\u001b[0m\u001b[1;33m\u001b[0m\u001b[0m\n\u001b[0m",
      "\u001b[1;31mNameError\u001b[0m: name 'df_min' is not defined"
     ]
    }
   ],
   "source": [
    "(df_min).groupby(['ex']).agg('mean')"
   ]
  }
 ],
 "metadata": {
  "file_extension": ".py",
  "kernelspec": {
   "display_name": "Python 3.7.4 64-bit ('env_pysubgroup': venv)",
   "language": "python",
   "name": "python37464bitenvpysubgroupvenv46f6ce1851004107b723d227f405bf21"
  },
  "language_info": {
   "codemirror_mode": {
    "name": "ipython",
    "version": 3
   },
   "file_extension": ".py",
   "mimetype": "text/x-python",
   "name": "python",
   "nbconvert_exporter": "python",
   "pygments_lexer": "ipython3",
   "version": "3.7.4"
  },
  "mimetype": "text/x-python",
  "name": "python",
  "npconvert_exporter": "python",
  "pygments_lexer": "ipython3",
  "version": 3
 },
 "nbformat": 4,
 "nbformat_minor": 2
}
